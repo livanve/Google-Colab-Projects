{
  "cells": [
    {
      "cell_type": "markdown",
      "metadata": {
        "id": "9MHXso2DTg4d"
      },
      "source": [
        "# **Dementia - Deep Learning Project**\n"
      ]
    },
    {
      "cell_type": "markdown",
      "metadata": {
        "id": "ecAypKeJT8G-"
      },
      "source": [
        "__________________________"
      ]
    },
    {
      "cell_type": "markdown",
      "metadata": {
        "id": "1kQbIm-MVPED"
      },
      "source": [
        "Import Datasets:\n",
        "- CSV: https://www.kaggle.com/datasets/rabieelkharoua/alzheimers-disease-dataset\n",
        "- Images: https://www.kaggle.com/datasets/ninadaithal/imagesoasis/data"
      ]
    },
    {
      "cell_type": "markdown",
      "source": [
        "\n",
        "Project Summary:\n",
        "\n",
        "This project explores AI-driven dementia detection by combining deep learning and machine learning approaches. A MobileNetV2 model classifies medical images as \"With Dementia\" or \"Non-Demented,\" achieving strong performance through robust training and testing techniques. Simultaneously, Decision Tree and Naive Bayes models analyze demographic and medical data to identify key predictors of dementia. By leveraging these complementary datasets and methodologies, the project underscores the potential of AI in enhancing early dementia screening and diagnosis."
      ],
      "metadata": {
        "id": "zOfViaSuQHG4"
      }
    },
    {
      "cell_type": "markdown",
      "metadata": {
        "id": "XMEw5r_XT9vW"
      },
      "source": [
        "_______________________________"
      ]
    },
    {
      "cell_type": "markdown",
      "metadata": {
        "id": "sjGiEugPRx0D"
      },
      "source": [
        "# **Step 1: Data Loading**"
      ]
    },
    {
      "cell_type": "markdown",
      "metadata": {
        "id": "VYxMZGKbeWs6"
      },
      "source": [
        "We can start by importing all necessary libraries for this step"
      ]
    },
    {
      "cell_type": "code",
      "execution_count": null,
      "metadata": {
        "id": "YinuaOpsP2y7"
      },
      "outputs": [],
      "source": [
        "import os\n",
        "import kagglehub\n",
        "import pandas as pd\n",
        "from PIL import Image\n",
        "import matplotlib.pyplot as plt"
      ]
    },
    {
      "cell_type": "markdown",
      "source": [
        "And now let's get into it!"
      ],
      "metadata": {
        "id": "3kTH3uiqPlpu"
      }
    },
    {
      "cell_type": "markdown",
      "metadata": {
        "id": "9gUAIvutvbuX"
      },
      "source": [
        "### A. CSV"
      ]
    },
    {
      "cell_type": "markdown",
      "source": [
        "Both datasets are from Kaggle, so first we need to add the paths for each dataset and download them using the Kagglehub dataset."
      ],
      "metadata": {
        "id": "y27Bp3f2A8Sh"
      }
    },
    {
      "cell_type": "code",
      "source": [
        "path_csv = kagglehub.dataset_download(\"rabieelkharoua/alzheimers-disease-dataset\")\n",
        "print(\"Path to dataset CSV file:\", path_csv)"
      ],
      "metadata": {
        "id": "xpCzrivVW5fw",
        "colab": {
          "base_uri": "https://localhost:8080/"
        },
        "outputId": "4d5be933-5f91-481a-9fbd-e01539324e30"
      },
      "execution_count": null,
      "outputs": [
        {
          "output_type": "stream",
          "name": "stdout",
          "text": [
            "Downloading from https://www.kaggle.com/api/v1/datasets/download/rabieelkharoua/alzheimers-disease-dataset?dataset_version_number=1...\n"
          ]
        },
        {
          "output_type": "stream",
          "name": "stderr",
          "text": [
            "100%|██████████| 268k/268k [00:00<00:00, 38.2MB/s]"
          ]
        },
        {
          "output_type": "stream",
          "name": "stdout",
          "text": [
            "Extracting files...\n",
            "Path to dataset CSV file: /root/.cache/kagglehub/datasets/rabieelkharoua/alzheimers-disease-dataset/versions/1\n"
          ]
        },
        {
          "output_type": "stream",
          "name": "stderr",
          "text": [
            "\n"
          ]
        }
      ]
    },
    {
      "cell_type": "markdown",
      "source": [
        "Starting with our CSV dataset, let's list the contents within our dataset"
      ],
      "metadata": {
        "id": "-lwY9jjtDoBh"
      }
    },
    {
      "cell_type": "code",
      "execution_count": null,
      "metadata": {
        "colab": {
          "base_uri": "https://localhost:8080/"
        },
        "id": "gw8XNk86bcbv",
        "outputId": "196eca2f-2bd6-4913-ad92-2d1be8efee34"
      },
      "outputs": [
        {
          "output_type": "stream",
          "name": "stdout",
          "text": [
            "Contents of csv dataset folder:\n",
            "\n",
            "alzheimers_disease_data.csv\n",
            "    None\n"
          ]
        }
      ],
      "source": [
        "csv_folder_contents = os.listdir(path_csv)\n",
        "print(\"Contents of csv dataset folder:\\n\")\n",
        "for item in csv_folder_contents:\n",
        "    print(item)\n",
        "    if os.path.isdir(os.path.join(path_csv, item)):\n",
        "        subitems = os.listdir(os.path_csv.join(path_csv, item))\n",
        "        subitem_count = len(subitems)\n",
        "        if subitem_count < 2:\n",
        "            for subitem in subitems:\n",
        "                print(\"   \",subitem)\n",
        "                subitem_path = os.path.join(path_csv, item, subitem)\n",
        "                if os.path.isdir(subitem_path):\n",
        "                    sub_subitems_count = len(os.listdir(subitem_path))\n",
        "                    print(f\"       Number of sub-subitems: {sub_subitems_count}\")\n",
        "        else:\n",
        "            print(f\"Number of subitems: {subitem_count}\")\n",
        "    else:\n",
        "        print(\"    None\")"
      ]
    },
    {
      "cell_type": "markdown",
      "source": [
        "Okay, so it is only the one CSV, nothing else. Let's create a variable holding the path to it."
      ],
      "metadata": {
        "id": "hTlnaJQgEHYE"
      }
    },
    {
      "cell_type": "code",
      "execution_count": null,
      "metadata": {
        "id": "5IwFtOHfPckX"
      },
      "outputs": [],
      "source": [
        "csv_data_path = os.path.join(path_csv, 'alzheimers_disease_data.csv')\n",
        "csv_data = pd.read_csv(csv_data_path)"
      ]
    },
    {
      "cell_type": "markdown",
      "source": [
        "And let's check it out"
      ],
      "metadata": {
        "id": "wR_UXTC7EVxH"
      }
    },
    {
      "cell_type": "code",
      "execution_count": null,
      "metadata": {
        "colab": {
          "base_uri": "https://localhost:8080/",
          "height": 256
        },
        "id": "KM3eoIdZYzWD",
        "outputId": "f1b7e91b-fda7-42ec-a56d-10df6a527d96"
      },
      "outputs": [
        {
          "output_type": "execute_result",
          "data": {
            "text/plain": [
              "   PatientID  Age  Gender  Ethnicity  EducationLevel        BMI  Smoking  \\\n",
              "0       4751   73       0          0               2  22.927749        0   \n",
              "1       4752   89       0          0               0  26.827681        0   \n",
              "2       4753   73       0          3               1  17.795882        0   \n",
              "3       4754   74       1          0               1  33.800817        1   \n",
              "4       4755   89       0          0               0  20.716974        0   \n",
              "\n",
              "   AlcoholConsumption  PhysicalActivity  DietQuality  ...  MemoryComplaints  \\\n",
              "0           13.297218          6.327112     1.347214  ...                 0   \n",
              "1            4.542524          7.619885     0.518767  ...                 0   \n",
              "2           19.555085          7.844988     1.826335  ...                 0   \n",
              "3           12.209266          8.428001     7.435604  ...                 0   \n",
              "4           18.454356          6.310461     0.795498  ...                 0   \n",
              "\n",
              "   BehavioralProblems       ADL  Confusion  Disorientation  \\\n",
              "0                   0  1.725883          0               0   \n",
              "1                   0  2.592424          0               0   \n",
              "2                   0  7.119548          0               1   \n",
              "3                   1  6.481226          0               0   \n",
              "4                   0  0.014691          0               0   \n",
              "\n",
              "   PersonalityChanges  DifficultyCompletingTasks  Forgetfulness  Diagnosis  \\\n",
              "0                   0                          1              0          0   \n",
              "1                   0                          0              1          0   \n",
              "2                   0                          1              0          0   \n",
              "3                   0                          0              0          0   \n",
              "4                   1                          1              0          0   \n",
              "\n",
              "   DoctorInCharge  \n",
              "0       XXXConfid  \n",
              "1       XXXConfid  \n",
              "2       XXXConfid  \n",
              "3       XXXConfid  \n",
              "4       XXXConfid  \n",
              "\n",
              "[5 rows x 35 columns]"
            ],
            "text/html": [
              "\n",
              "  <div id=\"df-edae72f5-796f-446d-804f-e4968f914da0\" class=\"colab-df-container\">\n",
              "    <div>\n",
              "<style scoped>\n",
              "    .dataframe tbody tr th:only-of-type {\n",
              "        vertical-align: middle;\n",
              "    }\n",
              "\n",
              "    .dataframe tbody tr th {\n",
              "        vertical-align: top;\n",
              "    }\n",
              "\n",
              "    .dataframe thead th {\n",
              "        text-align: right;\n",
              "    }\n",
              "</style>\n",
              "<table border=\"1\" class=\"dataframe\">\n",
              "  <thead>\n",
              "    <tr style=\"text-align: right;\">\n",
              "      <th></th>\n",
              "      <th>PatientID</th>\n",
              "      <th>Age</th>\n",
              "      <th>Gender</th>\n",
              "      <th>Ethnicity</th>\n",
              "      <th>EducationLevel</th>\n",
              "      <th>BMI</th>\n",
              "      <th>Smoking</th>\n",
              "      <th>AlcoholConsumption</th>\n",
              "      <th>PhysicalActivity</th>\n",
              "      <th>DietQuality</th>\n",
              "      <th>...</th>\n",
              "      <th>MemoryComplaints</th>\n",
              "      <th>BehavioralProblems</th>\n",
              "      <th>ADL</th>\n",
              "      <th>Confusion</th>\n",
              "      <th>Disorientation</th>\n",
              "      <th>PersonalityChanges</th>\n",
              "      <th>DifficultyCompletingTasks</th>\n",
              "      <th>Forgetfulness</th>\n",
              "      <th>Diagnosis</th>\n",
              "      <th>DoctorInCharge</th>\n",
              "    </tr>\n",
              "  </thead>\n",
              "  <tbody>\n",
              "    <tr>\n",
              "      <th>0</th>\n",
              "      <td>4751</td>\n",
              "      <td>73</td>\n",
              "      <td>0</td>\n",
              "      <td>0</td>\n",
              "      <td>2</td>\n",
              "      <td>22.927749</td>\n",
              "      <td>0</td>\n",
              "      <td>13.297218</td>\n",
              "      <td>6.327112</td>\n",
              "      <td>1.347214</td>\n",
              "      <td>...</td>\n",
              "      <td>0</td>\n",
              "      <td>0</td>\n",
              "      <td>1.725883</td>\n",
              "      <td>0</td>\n",
              "      <td>0</td>\n",
              "      <td>0</td>\n",
              "      <td>1</td>\n",
              "      <td>0</td>\n",
              "      <td>0</td>\n",
              "      <td>XXXConfid</td>\n",
              "    </tr>\n",
              "    <tr>\n",
              "      <th>1</th>\n",
              "      <td>4752</td>\n",
              "      <td>89</td>\n",
              "      <td>0</td>\n",
              "      <td>0</td>\n",
              "      <td>0</td>\n",
              "      <td>26.827681</td>\n",
              "      <td>0</td>\n",
              "      <td>4.542524</td>\n",
              "      <td>7.619885</td>\n",
              "      <td>0.518767</td>\n",
              "      <td>...</td>\n",
              "      <td>0</td>\n",
              "      <td>0</td>\n",
              "      <td>2.592424</td>\n",
              "      <td>0</td>\n",
              "      <td>0</td>\n",
              "      <td>0</td>\n",
              "      <td>0</td>\n",
              "      <td>1</td>\n",
              "      <td>0</td>\n",
              "      <td>XXXConfid</td>\n",
              "    </tr>\n",
              "    <tr>\n",
              "      <th>2</th>\n",
              "      <td>4753</td>\n",
              "      <td>73</td>\n",
              "      <td>0</td>\n",
              "      <td>3</td>\n",
              "      <td>1</td>\n",
              "      <td>17.795882</td>\n",
              "      <td>0</td>\n",
              "      <td>19.555085</td>\n",
              "      <td>7.844988</td>\n",
              "      <td>1.826335</td>\n",
              "      <td>...</td>\n",
              "      <td>0</td>\n",
              "      <td>0</td>\n",
              "      <td>7.119548</td>\n",
              "      <td>0</td>\n",
              "      <td>1</td>\n",
              "      <td>0</td>\n",
              "      <td>1</td>\n",
              "      <td>0</td>\n",
              "      <td>0</td>\n",
              "      <td>XXXConfid</td>\n",
              "    </tr>\n",
              "    <tr>\n",
              "      <th>3</th>\n",
              "      <td>4754</td>\n",
              "      <td>74</td>\n",
              "      <td>1</td>\n",
              "      <td>0</td>\n",
              "      <td>1</td>\n",
              "      <td>33.800817</td>\n",
              "      <td>1</td>\n",
              "      <td>12.209266</td>\n",
              "      <td>8.428001</td>\n",
              "      <td>7.435604</td>\n",
              "      <td>...</td>\n",
              "      <td>0</td>\n",
              "      <td>1</td>\n",
              "      <td>6.481226</td>\n",
              "      <td>0</td>\n",
              "      <td>0</td>\n",
              "      <td>0</td>\n",
              "      <td>0</td>\n",
              "      <td>0</td>\n",
              "      <td>0</td>\n",
              "      <td>XXXConfid</td>\n",
              "    </tr>\n",
              "    <tr>\n",
              "      <th>4</th>\n",
              "      <td>4755</td>\n",
              "      <td>89</td>\n",
              "      <td>0</td>\n",
              "      <td>0</td>\n",
              "      <td>0</td>\n",
              "      <td>20.716974</td>\n",
              "      <td>0</td>\n",
              "      <td>18.454356</td>\n",
              "      <td>6.310461</td>\n",
              "      <td>0.795498</td>\n",
              "      <td>...</td>\n",
              "      <td>0</td>\n",
              "      <td>0</td>\n",
              "      <td>0.014691</td>\n",
              "      <td>0</td>\n",
              "      <td>0</td>\n",
              "      <td>1</td>\n",
              "      <td>1</td>\n",
              "      <td>0</td>\n",
              "      <td>0</td>\n",
              "      <td>XXXConfid</td>\n",
              "    </tr>\n",
              "  </tbody>\n",
              "</table>\n",
              "<p>5 rows × 35 columns</p>\n",
              "</div>\n",
              "    <div class=\"colab-df-buttons\">\n",
              "\n",
              "  <div class=\"colab-df-container\">\n",
              "    <button class=\"colab-df-convert\" onclick=\"convertToInteractive('df-edae72f5-796f-446d-804f-e4968f914da0')\"\n",
              "            title=\"Convert this dataframe to an interactive table.\"\n",
              "            style=\"display:none;\">\n",
              "\n",
              "  <svg xmlns=\"http://www.w3.org/2000/svg\" height=\"24px\" viewBox=\"0 -960 960 960\">\n",
              "    <path d=\"M120-120v-720h720v720H120Zm60-500h600v-160H180v160Zm220 220h160v-160H400v160Zm0 220h160v-160H400v160ZM180-400h160v-160H180v160Zm440 0h160v-160H620v160ZM180-180h160v-160H180v160Zm440 0h160v-160H620v160Z\"/>\n",
              "  </svg>\n",
              "    </button>\n",
              "\n",
              "  <style>\n",
              "    .colab-df-container {\n",
              "      display:flex;\n",
              "      gap: 12px;\n",
              "    }\n",
              "\n",
              "    .colab-df-convert {\n",
              "      background-color: #E8F0FE;\n",
              "      border: none;\n",
              "      border-radius: 50%;\n",
              "      cursor: pointer;\n",
              "      display: none;\n",
              "      fill: #1967D2;\n",
              "      height: 32px;\n",
              "      padding: 0 0 0 0;\n",
              "      width: 32px;\n",
              "    }\n",
              "\n",
              "    .colab-df-convert:hover {\n",
              "      background-color: #E2EBFA;\n",
              "      box-shadow: 0px 1px 2px rgba(60, 64, 67, 0.3), 0px 1px 3px 1px rgba(60, 64, 67, 0.15);\n",
              "      fill: #174EA6;\n",
              "    }\n",
              "\n",
              "    .colab-df-buttons div {\n",
              "      margin-bottom: 4px;\n",
              "    }\n",
              "\n",
              "    [theme=dark] .colab-df-convert {\n",
              "      background-color: #3B4455;\n",
              "      fill: #D2E3FC;\n",
              "    }\n",
              "\n",
              "    [theme=dark] .colab-df-convert:hover {\n",
              "      background-color: #434B5C;\n",
              "      box-shadow: 0px 1px 3px 1px rgba(0, 0, 0, 0.15);\n",
              "      filter: drop-shadow(0px 1px 2px rgba(0, 0, 0, 0.3));\n",
              "      fill: #FFFFFF;\n",
              "    }\n",
              "  </style>\n",
              "\n",
              "    <script>\n",
              "      const buttonEl =\n",
              "        document.querySelector('#df-edae72f5-796f-446d-804f-e4968f914da0 button.colab-df-convert');\n",
              "      buttonEl.style.display =\n",
              "        google.colab.kernel.accessAllowed ? 'block' : 'none';\n",
              "\n",
              "      async function convertToInteractive(key) {\n",
              "        const element = document.querySelector('#df-edae72f5-796f-446d-804f-e4968f914da0');\n",
              "        const dataTable =\n",
              "          await google.colab.kernel.invokeFunction('convertToInteractive',\n",
              "                                                    [key], {});\n",
              "        if (!dataTable) return;\n",
              "\n",
              "        const docLinkHtml = 'Like what you see? Visit the ' +\n",
              "          '<a target=\"_blank\" href=https://colab.research.google.com/notebooks/data_table.ipynb>data table notebook</a>'\n",
              "          + ' to learn more about interactive tables.';\n",
              "        element.innerHTML = '';\n",
              "        dataTable['output_type'] = 'display_data';\n",
              "        await google.colab.output.renderOutput(dataTable, element);\n",
              "        const docLink = document.createElement('div');\n",
              "        docLink.innerHTML = docLinkHtml;\n",
              "        element.appendChild(docLink);\n",
              "      }\n",
              "    </script>\n",
              "  </div>\n",
              "\n",
              "\n",
              "<div id=\"df-50e3bd64-fbd5-47f5-b945-ff0fe49a1494\">\n",
              "  <button class=\"colab-df-quickchart\" onclick=\"quickchart('df-50e3bd64-fbd5-47f5-b945-ff0fe49a1494')\"\n",
              "            title=\"Suggest charts\"\n",
              "            style=\"display:none;\">\n",
              "\n",
              "<svg xmlns=\"http://www.w3.org/2000/svg\" height=\"24px\"viewBox=\"0 0 24 24\"\n",
              "     width=\"24px\">\n",
              "    <g>\n",
              "        <path d=\"M19 3H5c-1.1 0-2 .9-2 2v14c0 1.1.9 2 2 2h14c1.1 0 2-.9 2-2V5c0-1.1-.9-2-2-2zM9 17H7v-7h2v7zm4 0h-2V7h2v10zm4 0h-2v-4h2v4z\"/>\n",
              "    </g>\n",
              "</svg>\n",
              "  </button>\n",
              "\n",
              "<style>\n",
              "  .colab-df-quickchart {\n",
              "      --bg-color: #E8F0FE;\n",
              "      --fill-color: #1967D2;\n",
              "      --hover-bg-color: #E2EBFA;\n",
              "      --hover-fill-color: #174EA6;\n",
              "      --disabled-fill-color: #AAA;\n",
              "      --disabled-bg-color: #DDD;\n",
              "  }\n",
              "\n",
              "  [theme=dark] .colab-df-quickchart {\n",
              "      --bg-color: #3B4455;\n",
              "      --fill-color: #D2E3FC;\n",
              "      --hover-bg-color: #434B5C;\n",
              "      --hover-fill-color: #FFFFFF;\n",
              "      --disabled-bg-color: #3B4455;\n",
              "      --disabled-fill-color: #666;\n",
              "  }\n",
              "\n",
              "  .colab-df-quickchart {\n",
              "    background-color: var(--bg-color);\n",
              "    border: none;\n",
              "    border-radius: 50%;\n",
              "    cursor: pointer;\n",
              "    display: none;\n",
              "    fill: var(--fill-color);\n",
              "    height: 32px;\n",
              "    padding: 0;\n",
              "    width: 32px;\n",
              "  }\n",
              "\n",
              "  .colab-df-quickchart:hover {\n",
              "    background-color: var(--hover-bg-color);\n",
              "    box-shadow: 0 1px 2px rgba(60, 64, 67, 0.3), 0 1px 3px 1px rgba(60, 64, 67, 0.15);\n",
              "    fill: var(--button-hover-fill-color);\n",
              "  }\n",
              "\n",
              "  .colab-df-quickchart-complete:disabled,\n",
              "  .colab-df-quickchart-complete:disabled:hover {\n",
              "    background-color: var(--disabled-bg-color);\n",
              "    fill: var(--disabled-fill-color);\n",
              "    box-shadow: none;\n",
              "  }\n",
              "\n",
              "  .colab-df-spinner {\n",
              "    border: 2px solid var(--fill-color);\n",
              "    border-color: transparent;\n",
              "    border-bottom-color: var(--fill-color);\n",
              "    animation:\n",
              "      spin 1s steps(1) infinite;\n",
              "  }\n",
              "\n",
              "  @keyframes spin {\n",
              "    0% {\n",
              "      border-color: transparent;\n",
              "      border-bottom-color: var(--fill-color);\n",
              "      border-left-color: var(--fill-color);\n",
              "    }\n",
              "    20% {\n",
              "      border-color: transparent;\n",
              "      border-left-color: var(--fill-color);\n",
              "      border-top-color: var(--fill-color);\n",
              "    }\n",
              "    30% {\n",
              "      border-color: transparent;\n",
              "      border-left-color: var(--fill-color);\n",
              "      border-top-color: var(--fill-color);\n",
              "      border-right-color: var(--fill-color);\n",
              "    }\n",
              "    40% {\n",
              "      border-color: transparent;\n",
              "      border-right-color: var(--fill-color);\n",
              "      border-top-color: var(--fill-color);\n",
              "    }\n",
              "    60% {\n",
              "      border-color: transparent;\n",
              "      border-right-color: var(--fill-color);\n",
              "    }\n",
              "    80% {\n",
              "      border-color: transparent;\n",
              "      border-right-color: var(--fill-color);\n",
              "      border-bottom-color: var(--fill-color);\n",
              "    }\n",
              "    90% {\n",
              "      border-color: transparent;\n",
              "      border-bottom-color: var(--fill-color);\n",
              "    }\n",
              "  }\n",
              "</style>\n",
              "\n",
              "  <script>\n",
              "    async function quickchart(key) {\n",
              "      const quickchartButtonEl =\n",
              "        document.querySelector('#' + key + ' button');\n",
              "      quickchartButtonEl.disabled = true;  // To prevent multiple clicks.\n",
              "      quickchartButtonEl.classList.add('colab-df-spinner');\n",
              "      try {\n",
              "        const charts = await google.colab.kernel.invokeFunction(\n",
              "            'suggestCharts', [key], {});\n",
              "      } catch (error) {\n",
              "        console.error('Error during call to suggestCharts:', error);\n",
              "      }\n",
              "      quickchartButtonEl.classList.remove('colab-df-spinner');\n",
              "      quickchartButtonEl.classList.add('colab-df-quickchart-complete');\n",
              "    }\n",
              "    (() => {\n",
              "      let quickchartButtonEl =\n",
              "        document.querySelector('#df-50e3bd64-fbd5-47f5-b945-ff0fe49a1494 button');\n",
              "      quickchartButtonEl.style.display =\n",
              "        google.colab.kernel.accessAllowed ? 'block' : 'none';\n",
              "    })();\n",
              "  </script>\n",
              "</div>\n",
              "\n",
              "    </div>\n",
              "  </div>\n"
            ],
            "application/vnd.google.colaboratory.intrinsic+json": {
              "type": "dataframe",
              "variable_name": "csv_data"
            }
          },
          "metadata": {},
          "execution_count": 5
        }
      ],
      "source": [
        "csv_data.head()"
      ]
    },
    {
      "cell_type": "code",
      "execution_count": null,
      "metadata": {
        "colab": {
          "base_uri": "https://localhost:8080/"
        },
        "id": "aEodIEELYxhx",
        "outputId": "186a9f8f-8a4b-49c0-a66a-868b94cf4dc0"
      },
      "outputs": [
        {
          "output_type": "stream",
          "name": "stdout",
          "text": [
            "<class 'pandas.core.frame.DataFrame'>\n",
            "RangeIndex: 2149 entries, 0 to 2148\n",
            "Data columns (total 35 columns):\n",
            " #   Column                     Non-Null Count  Dtype  \n",
            "---  ------                     --------------  -----  \n",
            " 0   PatientID                  2149 non-null   int64  \n",
            " 1   Age                        2149 non-null   int64  \n",
            " 2   Gender                     2149 non-null   int64  \n",
            " 3   Ethnicity                  2149 non-null   int64  \n",
            " 4   EducationLevel             2149 non-null   int64  \n",
            " 5   BMI                        2149 non-null   float64\n",
            " 6   Smoking                    2149 non-null   int64  \n",
            " 7   AlcoholConsumption         2149 non-null   float64\n",
            " 8   PhysicalActivity           2149 non-null   float64\n",
            " 9   DietQuality                2149 non-null   float64\n",
            " 10  SleepQuality               2149 non-null   float64\n",
            " 11  FamilyHistoryAlzheimers    2149 non-null   int64  \n",
            " 12  CardiovascularDisease      2149 non-null   int64  \n",
            " 13  Diabetes                   2149 non-null   int64  \n",
            " 14  Depression                 2149 non-null   int64  \n",
            " 15  HeadInjury                 2149 non-null   int64  \n",
            " 16  Hypertension               2149 non-null   int64  \n",
            " 17  SystolicBP                 2149 non-null   int64  \n",
            " 18  DiastolicBP                2149 non-null   int64  \n",
            " 19  CholesterolTotal           2149 non-null   float64\n",
            " 20  CholesterolLDL             2149 non-null   float64\n",
            " 21  CholesterolHDL             2149 non-null   float64\n",
            " 22  CholesterolTriglycerides   2149 non-null   float64\n",
            " 23  MMSE                       2149 non-null   float64\n",
            " 24  FunctionalAssessment       2149 non-null   float64\n",
            " 25  MemoryComplaints           2149 non-null   int64  \n",
            " 26  BehavioralProblems         2149 non-null   int64  \n",
            " 27  ADL                        2149 non-null   float64\n",
            " 28  Confusion                  2149 non-null   int64  \n",
            " 29  Disorientation             2149 non-null   int64  \n",
            " 30  PersonalityChanges         2149 non-null   int64  \n",
            " 31  DifficultyCompletingTasks  2149 non-null   int64  \n",
            " 32  Forgetfulness              2149 non-null   int64  \n",
            " 33  Diagnosis                  2149 non-null   int64  \n",
            " 34  DoctorInCharge             2149 non-null   object \n",
            "dtypes: float64(12), int64(22), object(1)\n",
            "memory usage: 587.7+ KB\n"
          ]
        }
      ],
      "source": [
        "csv_data.info()"
      ]
    },
    {
      "cell_type": "markdown",
      "source": [
        "Great! Now let's load the images dataset."
      ],
      "metadata": {
        "id": "TsTK4CL8EaaY"
      }
    },
    {
      "cell_type": "markdown",
      "metadata": {
        "id": "FLilhIAuvVpb"
      },
      "source": [
        "### B. Images"
      ]
    },
    {
      "cell_type": "markdown",
      "source": [
        "Now we can do the same thing we did with the CSV and first add the paths for each dataset and download them using the Kagglehub dataset."
      ],
      "metadata": {
        "id": "9q2-QSYBXFK5"
      }
    },
    {
      "cell_type": "code",
      "execution_count": null,
      "metadata": {
        "colab": {
          "base_uri": "https://localhost:8080/"
        },
        "id": "wtl6jcyPMh_A",
        "outputId": "deb6eee4-924c-4a01-e85d-25ca9fa42dbb"
      },
      "outputs": [
        {
          "output_type": "stream",
          "name": "stdout",
          "text": [
            "Downloading from https://www.kaggle.com/api/v1/datasets/download/ninadaithal/imagesoasis?dataset_version_number=1...\n"
          ]
        },
        {
          "output_type": "stream",
          "name": "stderr",
          "text": [
            "100%|██████████| 1.23G/1.23G [00:13<00:00, 97.5MB/s]"
          ]
        },
        {
          "output_type": "stream",
          "name": "stdout",
          "text": [
            "Extracting files...\n"
          ]
        },
        {
          "output_type": "stream",
          "name": "stderr",
          "text": [
            "\n"
          ]
        },
        {
          "output_type": "stream",
          "name": "stdout",
          "text": [
            "Path to dataset image files: /root/.cache/kagglehub/datasets/ninadaithal/imagesoasis/versions/1\n"
          ]
        }
      ],
      "source": [
        "path_images = kagglehub.dataset_download(\"ninadaithal/imagesoasis\")\n",
        "print(\"Path to dataset image files:\", path_images)"
      ]
    },
    {
      "cell_type": "markdown",
      "source": [
        "Let's start by viewing the contents of this dataset folder"
      ],
      "metadata": {
        "id": "ziASqZr3UcLj"
      }
    },
    {
      "cell_type": "code",
      "execution_count": null,
      "metadata": {
        "colab": {
          "base_uri": "https://localhost:8080/"
        },
        "id": "dc2Tl-Y0bd8t",
        "outputId": "2790e3ea-668d-48f0-eb40-a7f009a1c193"
      },
      "outputs": [
        {
          "output_type": "stream",
          "name": "stdout",
          "text": [
            "Contents of images dataset folder:\n",
            "\n",
            "Data\n",
            "    Mild Dementia\n",
            "        Number of sub-subitems: 5002\n",
            "    Non Demented\n",
            "        Number of sub-subitems: 67222\n",
            "    Very mild Dementia\n",
            "        Number of sub-subitems: 13725\n",
            "    Moderate Dementia\n",
            "        Number of sub-subitems: 488\n"
          ]
        }
      ],
      "source": [
        "images_folder_contents = os.listdir(path_images)\n",
        "print(\"Contents of images dataset folder:\\n\")\n",
        "for item in images_folder_contents:\n",
        "    print(item)\n",
        "    if os.path.isdir(os.path.join(path_images, item)):\n",
        "        subitems = os.listdir(os.path.join(path_images, item))\n",
        "        subitem_count = len(subitems)\n",
        "        if subitem_count < 10:\n",
        "            for subitem in subitems:\n",
        "                print(\"   \",subitem)\n",
        "                subitem_path = os.path.join(path_images, item, subitem)\n",
        "                if os.path.isdir(subitem_path):\n",
        "                    sub_subitems_count = len(os.listdir(subitem_path))\n",
        "                    print(f\"        Number of sub-subitems: {sub_subitems_count}\")\n",
        "        else:\n",
        "            print(f\"Number of subitems: {subitem_count}\")\n",
        "    else:\n",
        "        print(\"    None\")"
      ]
    },
    {
      "cell_type": "markdown",
      "source": [
        "There are 4 main subfolders, so let's name each of their paths, as well as the path of the folder they are all located in."
      ],
      "metadata": {
        "id": "dIWd6I4vUiZb"
      }
    },
    {
      "cell_type": "code",
      "execution_count": null,
      "metadata": {
        "id": "jzvUdcwogErs"
      },
      "outputs": [],
      "source": [
        "images_data_path = os.path.join(path_images, 'Data')\n",
        "vmild_images_path = os.path.join(images_data_path, 'Very mild Dementia')\n",
        "mild_images_path = os.path.join(images_data_path, 'Mild Dementia')\n",
        "mod_images_path = os.path.join(images_data_path, 'Moderate Dementia')\n",
        "non_images_path = os.path.join(images_data_path, 'Non Demented')"
      ]
    },
    {
      "cell_type": "markdown",
      "source": [
        "They all contain .jpg images of MRI brain scans, so let's display a sample of the Moderate Dementia folder to exemplify the images.\n",
        "\n",
        "We can access image data using the variable name we just created."
      ],
      "metadata": {
        "id": "lRH0ARMYU6V7"
      }
    },
    {
      "cell_type": "code",
      "execution_count": null,
      "metadata": {
        "colab": {
          "base_uri": "https://localhost:8080/",
          "height": 137
        },
        "id": "mbVLD5o8W36v",
        "outputId": "de80bc2c-5308-4da3-8e2d-ea886b3c64df"
      },
      "outputs": [
        {
          "output_type": "display_data",
          "data": {
            "text/plain": [
              "<Figure size 1500x500 with 5 Axes>"
            ],
            "image/png": "[encoded data removed]"
          },
          "metadata": {}
        }
      ],
      "source": [
        "example_image_files = [f for f in os.listdir(mod_images_path) if f.endswith('.jpg')][:5]\n",
        "plt.figure(figsize=(15, 5))\n",
        "for i, image_file in enumerate(example_image_files):\n",
        "    image_path = os.path.join(mod_images_path, image_file)\n",
        "    image = Image.open(image_path)\n",
        "    plt.subplot(1, 5, i + 1)\n",
        "    plt.imshow(image)\n",
        "    plt.axis('off')\n",
        "plt.show()"
      ]
    },
    {
      "cell_type": "markdown",
      "metadata": {
        "id": "iZd9UBd0R4EC"
      },
      "source": [
        "# **Step 2: Data Cleaning & Preprocessing**"
      ]
    },
    {
      "cell_type": "markdown",
      "source": [
        "We will need to import some packages from the tensorflow and sklearn libraries for this section, along with shutil."
      ],
      "metadata": {
        "id": "t5pLp23tZ4LC"
      }
    },
    {
      "cell_type": "code",
      "source": [
        "import shutil\n",
        "from tensorflow.keras.preprocessing import image\n",
        "from sklearn.model_selection import train_test_split\n",
        "from sklearn.preprocessing import LabelEncoder, MinMaxScaler\n",
        "from tensorflow.keras.preprocessing.image import ImageDataGenerator"
      ],
      "metadata": {
        "id": "OrjRlmE7XUoA"
      },
      "execution_count": null,
      "outputs": []
    },
    {
      "cell_type": "markdown",
      "source": [
        "As we go through and clean our datasets, Let's be sure to show the effects of our actions after each step!"
      ],
      "metadata": {
        "id": "9yxXslyYZ12G"
      }
    },
    {
      "cell_type": "markdown",
      "metadata": {
        "id": "4JgHNMZrjl2p"
      },
      "source": [
        "### A. CSV"
      ]
    },
    {
      "cell_type": "markdown",
      "metadata": {
        "id": "jP1Q4FKwVEfP"
      },
      "source": [
        "We can begin to clean the CSV dataset by dropping irrelevant columns"
      ]
    },
    {
      "cell_type": "code",
      "execution_count": null,
      "metadata": {
        "colab": {
          "base_uri": "https://localhost:8080/"
        },
        "id": "KFoNg4m0P2jC",
        "outputId": "b2372d4b-c253-4a57-d53a-f49c4458b48a"
      },
      "outputs": [
        {
          "output_type": "stream",
          "name": "stdout",
          "text": [
            "<class 'pandas.core.frame.DataFrame'>\n",
            "RangeIndex: 2149 entries, 0 to 2148\n",
            "Data columns (total 33 columns):\n",
            " #   Column                     Non-Null Count  Dtype  \n",
            "---  ------                     --------------  -----  \n",
            " 0   Age                        2149 non-null   int64  \n",
            " 1   Gender                     2149 non-null   int64  \n",
            " 2   Ethnicity                  2149 non-null   int64  \n",
            " 3   EducationLevel             2149 non-null   int64  \n",
            " 4   BMI                        2149 non-null   float64\n",
            " 5   Smoking                    2149 non-null   int64  \n",
            " 6   AlcoholConsumption         2149 non-null   float64\n",
            " 7   PhysicalActivity           2149 non-null   float64\n",
            " 8   DietQuality                2149 non-null   float64\n",
            " 9   SleepQuality               2149 non-null   float64\n",
            " 10  FamilyHistoryAlzheimers    2149 non-null   int64  \n",
            " 11  CardiovascularDisease      2149 non-null   int64  \n",
            " 12  Diabetes                   2149 non-null   int64  \n",
            " 13  Depression                 2149 non-null   int64  \n",
            " 14  HeadInjury                 2149 non-null   int64  \n",
            " 15  Hypertension               2149 non-null   int64  \n",
            " 16  SystolicBP                 2149 non-null   int64  \n",
            " 17  DiastolicBP                2149 non-null   int64  \n",
            " 18  CholesterolTotal           2149 non-null   float64\n",
            " 19  CholesterolLDL             2149 non-null   float64\n",
            " 20  CholesterolHDL             2149 non-null   float64\n",
            " 21  CholesterolTriglycerides   2149 non-null   float64\n",
            " 22  MMSE                       2149 non-null   float64\n",
            " 23  FunctionalAssessment       2149 non-null   float64\n",
            " 24  MemoryComplaints           2149 non-null   int64  \n",
            " 25  BehavioralProblems         2149 non-null   int64  \n",
            " 26  ADL                        2149 non-null   float64\n",
            " 27  Confusion                  2149 non-null   int64  \n",
            " 28  Disorientation             2149 non-null   int64  \n",
            " 29  PersonalityChanges         2149 non-null   int64  \n",
            " 30  DifficultyCompletingTasks  2149 non-null   int64  \n",
            " 31  Forgetfulness              2149 non-null   int64  \n",
            " 32  Diagnosis                  2149 non-null   int64  \n",
            "dtypes: float64(12), int64(21)\n",
            "memory usage: 554.2 KB\n",
            "None\n"
          ]
        }
      ],
      "source": [
        "csv_data = csv_data.drop(columns=['PatientID', 'DoctorInCharge'], axis=1)\n",
        "print(csv_data.info())"
      ]
    },
    {
      "cell_type": "markdown",
      "metadata": {
        "id": "495Yofp2SuL5"
      },
      "source": [
        "Then we can encode categorical variables, such as Gender and Ethnicity\n"
      ]
    },
    {
      "cell_type": "code",
      "execution_count": null,
      "metadata": {
        "id": "zglkKJgYR_LB",
        "colab": {
          "base_uri": "https://localhost:8080/",
          "height": 256
        },
        "outputId": "764dfb4a-2a40-4196-b1b5-13b0bdd0239b"
      },
      "outputs": [
        {
          "output_type": "execute_result",
          "data": {
            "text/plain": [
              "   Age  Gender  Ethnicity  EducationLevel        BMI  Smoking  \\\n",
              "0   73       0          0               2  22.927749        0   \n",
              "1   89       0          0               0  26.827681        0   \n",
              "2   73       0          3               1  17.795882        0   \n",
              "3   74       1          0               1  33.800817        1   \n",
              "4   89       0          0               0  20.716974        0   \n",
              "\n",
              "   AlcoholConsumption  PhysicalActivity  DietQuality  SleepQuality  ...  \\\n",
              "0           13.297218          6.327112     1.347214      9.025679  ...   \n",
              "1            4.542524          7.619885     0.518767      7.151293  ...   \n",
              "2           19.555085          7.844988     1.826335      9.673574  ...   \n",
              "3           12.209266          8.428001     7.435604      8.392554  ...   \n",
              "4           18.454356          6.310461     0.795498      5.597238  ...   \n",
              "\n",
              "   FunctionalAssessment  MemoryComplaints  BehavioralProblems       ADL  \\\n",
              "0              6.518877                 0                   0  1.725883   \n",
              "1              7.118696                 0                   0  2.592424   \n",
              "2              5.895077                 0                   0  7.119548   \n",
              "3              8.965106                 0                   1  6.481226   \n",
              "4              6.045039                 0                   0  0.014691   \n",
              "\n",
              "   Confusion  Disorientation  PersonalityChanges  DifficultyCompletingTasks  \\\n",
              "0          0               0                   0                          1   \n",
              "1          0               0                   0                          0   \n",
              "2          0               1                   0                          1   \n",
              "3          0               0                   0                          0   \n",
              "4          0               0                   1                          1   \n",
              "\n",
              "   Forgetfulness  Diagnosis  \n",
              "0              0          0  \n",
              "1              1          0  \n",
              "2              0          0  \n",
              "3              0          0  \n",
              "4              0          0  \n",
              "\n",
              "[5 rows x 33 columns]"
            ],
            "text/html": [
              "\n",
              "  <div id=\"df-eae42084-cc29-46a1-8bac-e9b236f870b7\" class=\"colab-df-container\">\n",
              "    <div>\n",
              "<style scoped>\n",
              "    .dataframe tbody tr th:only-of-type {\n",
              "        vertical-align: middle;\n",
              "    }\n",
              "\n",
              "    .dataframe tbody tr th {\n",
              "        vertical-align: top;\n",
              "    }\n",
              "\n",
              "    .dataframe thead th {\n",
              "        text-align: right;\n",
              "    }\n",
              "</style>\n",
              "<table border=\"1\" class=\"dataframe\">\n",
              "  <thead>\n",
              "    <tr style=\"text-align: right;\">\n",
              "      <th></th>\n",
              "      <th>Age</th>\n",
              "      <th>Gender</th>\n",
              "      <th>Ethnicity</th>\n",
              "      <th>EducationLevel</th>\n",
              "      <th>BMI</th>\n",
              "      <th>Smoking</th>\n",
              "      <th>AlcoholConsumption</th>\n",
              "      <th>PhysicalActivity</th>\n",
              "      <th>DietQuality</th>\n",
              "      <th>SleepQuality</th>\n",
              "      <th>...</th>\n",
              "      <th>FunctionalAssessment</th>\n",
              "      <th>MemoryComplaints</th>\n",
              "      <th>BehavioralProblems</th>\n",
              "      <th>ADL</th>\n",
              "      <th>Confusion</th>\n",
              "      <th>Disorientation</th>\n",
              "      <th>PersonalityChanges</th>\n",
              "      <th>DifficultyCompletingTasks</th>\n",
              "      <th>Forgetfulness</th>\n",
              "      <th>Diagnosis</th>\n",
              "    </tr>\n",
              "  </thead>\n",
              "  <tbody>\n",
              "    <tr>\n",
              "      <th>0</th>\n",
              "      <td>73</td>\n",
              "      <td>0</td>\n",
              "      <td>0</td>\n",
              "      <td>2</td>\n",
              "      <td>22.927749</td>\n",
              "      <td>0</td>\n",
              "      <td>13.297218</td>\n",
              "      <td>6.327112</td>\n",
              "      <td>1.347214</td>\n",
              "      <td>9.025679</td>\n",
              "      <td>...</td>\n",
              "      <td>6.518877</td>\n",
              "      <td>0</td>\n",
              "      <td>0</td>\n",
              "      <td>1.725883</td>\n",
              "      <td>0</td>\n",
              "      <td>0</td>\n",
              "      <td>0</td>\n",
              "      <td>1</td>\n",
              "      <td>0</td>\n",
              "      <td>0</td>\n",
              "    </tr>\n",
              "    <tr>\n",
              "      <th>1</th>\n",
              "      <td>89</td>\n",
              "      <td>0</td>\n",
              "      <td>0</td>\n",
              "      <td>0</td>\n",
              "      <td>26.827681</td>\n",
              "      <td>0</td>\n",
              "      <td>4.542524</td>\n",
              "      <td>7.619885</td>\n",
              "      <td>0.518767</td>\n",
              "      <td>7.151293</td>\n",
              "      <td>...</td>\n",
              "      <td>7.118696</td>\n",
              "      <td>0</td>\n",
              "      <td>0</td>\n",
              "      <td>2.592424</td>\n",
              "      <td>0</td>\n",
              "      <td>0</td>\n",
              "      <td>0</td>\n",
              "      <td>0</td>\n",
              "      <td>1</td>\n",
              "      <td>0</td>\n",
              "    </tr>\n",
              "    <tr>\n",
              "      <th>2</th>\n",
              "      <td>73</td>\n",
              "      <td>0</td>\n",
              "      <td>3</td>\n",
              "      <td>1</td>\n",
              "      <td>17.795882</td>\n",
              "      <td>0</td>\n",
              "      <td>19.555085</td>\n",
              "      <td>7.844988</td>\n",
              "      <td>1.826335</td>\n",
              "      <td>9.673574</td>\n",
              "      <td>...</td>\n",
              "      <td>5.895077</td>\n",
              "      <td>0</td>\n",
              "      <td>0</td>\n",
              "      <td>7.119548</td>\n",
              "      <td>0</td>\n",
              "      <td>1</td>\n",
              "      <td>0</td>\n",
              "      <td>1</td>\n",
              "      <td>0</td>\n",
              "      <td>0</td>\n",
              "    </tr>\n",
              "    <tr>\n",
              "      <th>3</th>\n",
              "      <td>74</td>\n",
              "      <td>1</td>\n",
              "      <td>0</td>\n",
              "      <td>1</td>\n",
              "      <td>33.800817</td>\n",
              "      <td>1</td>\n",
              "      <td>12.209266</td>\n",
              "      <td>8.428001</td>\n",
              "      <td>7.435604</td>\n",
              "      <td>8.392554</td>\n",
              "      <td>...</td>\n",
              "      <td>8.965106</td>\n",
              "      <td>0</td>\n",
              "      <td>1</td>\n",
              "      <td>6.481226</td>\n",
              "      <td>0</td>\n",
              "      <td>0</td>\n",
              "      <td>0</td>\n",
              "      <td>0</td>\n",
              "      <td>0</td>\n",
              "      <td>0</td>\n",
              "    </tr>\n",
              "    <tr>\n",
              "      <th>4</th>\n",
              "      <td>89</td>\n",
              "      <td>0</td>\n",
              "      <td>0</td>\n",
              "      <td>0</td>\n",
              "      <td>20.716974</td>\n",
              "      <td>0</td>\n",
              "      <td>18.454356</td>\n",
              "      <td>6.310461</td>\n",
              "      <td>0.795498</td>\n",
              "      <td>5.597238</td>\n",
              "      <td>...</td>\n",
              "      <td>6.045039</td>\n",
              "      <td>0</td>\n",
              "      <td>0</td>\n",
              "      <td>0.014691</td>\n",
              "      <td>0</td>\n",
              "      <td>0</td>\n",
              "      <td>1</td>\n",
              "      <td>1</td>\n",
              "      <td>0</td>\n",
              "      <td>0</td>\n",
              "    </tr>\n",
              "  </tbody>\n",
              "</table>\n",
              "<p>5 rows × 33 columns</p>\n",
              "</div>\n",
              "    <div class=\"colab-df-buttons\">\n",
              "\n",
              "  <div class=\"colab-df-container\">\n",
              "    <button class=\"colab-df-convert\" onclick=\"convertToInteractive('df-eae42084-cc29-46a1-8bac-e9b236f870b7')\"\n",
              "            title=\"Convert this dataframe to an interactive table.\"\n",
              "            style=\"display:none;\">\n",
              "\n",
              "  <svg xmlns=\"http://www.w3.org/2000/svg\" height=\"24px\" viewBox=\"0 -960 960 960\">\n",
              "    <path d=\"M120-120v-720h720v720H120Zm60-500h600v-160H180v160Zm220 220h160v-160H400v160Zm0 220h160v-160H400v160ZM180-400h160v-160H180v160Zm440 0h160v-160H620v160ZM180-180h160v-160H180v160Zm440 0h160v-160H620v160Z\"/>\n",
              "  </svg>\n",
              "    </button>\n",
              "\n",
              "  <style>\n",
              "    .colab-df-container {\n",
              "      display:flex;\n",
              "      gap: 12px;\n",
              "    }\n",
              "\n",
              "    .colab-df-convert {\n",
              "      background-color: #E8F0FE;\n",
              "      border: none;\n",
              "      border-radius: 50%;\n",
              "      cursor: pointer;\n",
              "      display: none;\n",
              "      fill: #1967D2;\n",
              "      height: 32px;\n",
              "      padding: 0 0 0 0;\n",
              "      width: 32px;\n",
              "    }\n",
              "\n",
              "    .colab-df-convert:hover {\n",
              "      background-color: #E2EBFA;\n",
              "      box-shadow: 0px 1px 2px rgba(60, 64, 67, 0.3), 0px 1px 3px 1px rgba(60, 64, 67, 0.15);\n",
              "      fill: #174EA6;\n",
              "    }\n",
              "\n",
              "    .colab-df-buttons div {\n",
              "      margin-bottom: 4px;\n",
              "    }\n",
              "\n",
              "    [theme=dark] .colab-df-convert {\n",
              "      background-color: #3B4455;\n",
              "      fill: #D2E3FC;\n",
              "    }\n",
              "\n",
              "    [theme=dark] .colab-df-convert:hover {\n",
              "      background-color: #434B5C;\n",
              "      box-shadow: 0px 1px 3px 1px rgba(0, 0, 0, 0.15);\n",
              "      filter: drop-shadow(0px 1px 2px rgba(0, 0, 0, 0.3));\n",
              "      fill: #FFFFFF;\n",
              "    }\n",
              "  </style>\n",
              "\n",
              "    <script>\n",
              "      const buttonEl =\n",
              "        document.querySelector('#df-eae42084-cc29-46a1-8bac-e9b236f870b7 button.colab-df-convert');\n",
              "      buttonEl.style.display =\n",
              "        google.colab.kernel.accessAllowed ? 'block' : 'none';\n",
              "\n",
              "      async function convertToInteractive(key) {\n",
              "        const element = document.querySelector('#df-eae42084-cc29-46a1-8bac-e9b236f870b7');\n",
              "        const dataTable =\n",
              "          await google.colab.kernel.invokeFunction('convertToInteractive',\n",
              "                                                    [key], {});\n",
              "        if (!dataTable) return;\n",
              "\n",
              "        const docLinkHtml = 'Like what you see? Visit the ' +\n",
              "          '<a target=\"_blank\" href=https://colab.research.google.com/notebooks/data_table.ipynb>data table notebook</a>'\n",
              "          + ' to learn more about interactive tables.';\n",
              "        element.innerHTML = '';\n",
              "        dataTable['output_type'] = 'display_data';\n",
              "        await google.colab.output.renderOutput(dataTable, element);\n",
              "        const docLink = document.createElement('div');\n",
              "        docLink.innerHTML = docLinkHtml;\n",
              "        element.appendChild(docLink);\n",
              "      }\n",
              "    </script>\n",
              "  </div>\n",
              "\n",
              "\n",
              "<div id=\"df-baeb6a59-8de1-4b52-860e-989228ae8a33\">\n",
              "  <button class=\"colab-df-quickchart\" onclick=\"quickchart('df-baeb6a59-8de1-4b52-860e-989228ae8a33')\"\n",
              "            title=\"Suggest charts\"\n",
              "            style=\"display:none;\">\n",
              "\n",
              "<svg xmlns=\"http://www.w3.org/2000/svg\" height=\"24px\"viewBox=\"0 0 24 24\"\n",
              "     width=\"24px\">\n",
              "    <g>\n",
              "        <path d=\"M19 3H5c-1.1 0-2 .9-2 2v14c0 1.1.9 2 2 2h14c1.1 0 2-.9 2-2V5c0-1.1-.9-2-2-2zM9 17H7v-7h2v7zm4 0h-2V7h2v10zm4 0h-2v-4h2v4z\"/>\n",
              "    </g>\n",
              "</svg>\n",
              "  </button>\n",
              "\n",
              "<style>\n",
              "  .colab-df-quickchart {\n",
              "      --bg-color: #E8F0FE;\n",
              "      --fill-color: #1967D2;\n",
              "      --hover-bg-color: #E2EBFA;\n",
              "      --hover-fill-color: #174EA6;\n",
              "      --disabled-fill-color: #AAA;\n",
              "      --disabled-bg-color: #DDD;\n",
              "  }\n",
              "\n",
              "  [theme=dark] .colab-df-quickchart {\n",
              "      --bg-color: #3B4455;\n",
              "      --fill-color: #D2E3FC;\n",
              "      --hover-bg-color: #434B5C;\n",
              "      --hover-fill-color: #FFFFFF;\n",
              "      --disabled-bg-color: #3B4455;\n",
              "      --disabled-fill-color: #666;\n",
              "  }\n",
              "\n",
              "  .colab-df-quickchart {\n",
              "    background-color: var(--bg-color);\n",
              "    border: none;\n",
              "    border-radius: 50%;\n",
              "    cursor: pointer;\n",
              "    display: none;\n",
              "    fill: var(--fill-color);\n",
              "    height: 32px;\n",
              "    padding: 0;\n",
              "    width: 32px;\n",
              "  }\n",
              "\n",
              "  .colab-df-quickchart:hover {\n",
              "    background-color: var(--hover-bg-color);\n",
              "    box-shadow: 0 1px 2px rgba(60, 64, 67, 0.3), 0 1px 3px 1px rgba(60, 64, 67, 0.15);\n",
              "    fill: var(--button-hover-fill-color);\n",
              "  }\n",
              "\n",
              "  .colab-df-quickchart-complete:disabled,\n",
              "  .colab-df-quickchart-complete:disabled:hover {\n",
              "    background-color: var(--disabled-bg-color);\n",
              "    fill: var(--disabled-fill-color);\n",
              "    box-shadow: none;\n",
              "  }\n",
              "\n",
              "  .colab-df-spinner {\n",
              "    border: 2px solid var(--fill-color);\n",
              "    border-color: transparent;\n",
              "    border-bottom-color: var(--fill-color);\n",
              "    animation:\n",
              "      spin 1s steps(1) infinite;\n",
              "  }\n",
              "\n",
              "  @keyframes spin {\n",
              "    0% {\n",
              "      border-color: transparent;\n",
              "      border-bottom-color: var(--fill-color);\n",
              "      border-left-color: var(--fill-color);\n",
              "    }\n",
              "    20% {\n",
              "      border-color: transparent;\n",
              "      border-left-color: var(--fill-color);\n",
              "      border-top-color: var(--fill-color);\n",
              "    }\n",
              "    30% {\n",
              "      border-color: transparent;\n",
              "      border-left-color: var(--fill-color);\n",
              "      border-top-color: var(--fill-color);\n",
              "      border-right-color: var(--fill-color);\n",
              "    }\n",
              "    40% {\n",
              "      border-color: transparent;\n",
              "      border-right-color: var(--fill-color);\n",
              "      border-top-color: var(--fill-color);\n",
              "    }\n",
              "    60% {\n",
              "      border-color: transparent;\n",
              "      border-right-color: var(--fill-color);\n",
              "    }\n",
              "    80% {\n",
              "      border-color: transparent;\n",
              "      border-right-color: var(--fill-color);\n",
              "      border-bottom-color: var(--fill-color);\n",
              "    }\n",
              "    90% {\n",
              "      border-color: transparent;\n",
              "      border-bottom-color: var(--fill-color);\n",
              "    }\n",
              "  }\n",
              "</style>\n",
              "\n",
              "  <script>\n",
              "    async function quickchart(key) {\n",
              "      const quickchartButtonEl =\n",
              "        document.querySelector('#' + key + ' button');\n",
              "      quickchartButtonEl.disabled = true;  // To prevent multiple clicks.\n",
              "      quickchartButtonEl.classList.add('colab-df-spinner');\n",
              "      try {\n",
              "        const charts = await google.colab.kernel.invokeFunction(\n",
              "            'suggestCharts', [key], {});\n",
              "      } catch (error) {\n",
              "        console.error('Error during call to suggestCharts:', error);\n",
              "      }\n",
              "      quickchartButtonEl.classList.remove('colab-df-spinner');\n",
              "      quickchartButtonEl.classList.add('colab-df-quickchart-complete');\n",
              "    }\n",
              "    (() => {\n",
              "      let quickchartButtonEl =\n",
              "        document.querySelector('#df-baeb6a59-8de1-4b52-860e-989228ae8a33 button');\n",
              "      quickchartButtonEl.style.display =\n",
              "        google.colab.kernel.accessAllowed ? 'block' : 'none';\n",
              "    })();\n",
              "  </script>\n",
              "</div>\n",
              "\n",
              "    </div>\n",
              "  </div>\n"
            ],
            "application/vnd.google.colaboratory.intrinsic+json": {
              "type": "dataframe",
              "variable_name": "csv_data"
            }
          },
          "metadata": {},
          "execution_count": 13
        }
      ],
      "source": [
        "label_enc = LabelEncoder()\n",
        "csv_data['Gender'] = label_enc.fit_transform(csv_data['Gender'])\n",
        "csv_data['Ethnicity'] = label_enc.fit_transform(csv_data['Ethnicity'])\n",
        "csv_data.head()"
      ]
    },
    {
      "cell_type": "markdown",
      "metadata": {
        "id": "zSrqKVZgS0Qw"
      },
      "source": [
        "And normalize numeric features, such as Age and BMI"
      ]
    },
    {
      "cell_type": "code",
      "execution_count": null,
      "metadata": {
        "id": "JzPdaardShah",
        "colab": {
          "base_uri": "https://localhost:8080/",
          "height": 256
        },
        "outputId": "aedec633-5a03-4c11-9b44-777eb481da4f"
      },
      "outputs": [
        {
          "output_type": "execute_result",
          "data": {
            "text/plain": [
              "        Age  Gender  Ethnicity  EducationLevel       BMI  Smoking  \\\n",
              "0  0.433333       0          0               2  0.316960        0   \n",
              "1  0.966667       0          0               0  0.473058        0   \n",
              "2  0.433333       0          3               1  0.111553        0   \n",
              "3  0.466667       1          0               1  0.752163        1   \n",
              "4  0.966667       0          0               0  0.228472        0   \n",
              "\n",
              "   AlcoholConsumption  PhysicalActivity  DietQuality  SleepQuality  ...  \\\n",
              "0            0.665183          0.633375     1.347214      9.025679  ...   \n",
              "1            0.227170          0.762862     0.518767      7.151293  ...   \n",
              "2            0.978276          0.785408     1.826335      9.673574  ...   \n",
              "3            0.610751          0.843804     7.435604      8.392554  ...   \n",
              "4            0.923204          0.631707     0.795498      5.597238  ...   \n",
              "\n",
              "   FunctionalAssessment  MemoryComplaints  BehavioralProblems       ADL  \\\n",
              "0              6.518877                 0                   0  1.725883   \n",
              "1              7.118696                 0                   0  2.592424   \n",
              "2              5.895077                 0                   0  7.119548   \n",
              "3              8.965106                 0                   1  6.481226   \n",
              "4              6.045039                 0                   0  0.014691   \n",
              "\n",
              "   Confusion  Disorientation  PersonalityChanges  DifficultyCompletingTasks  \\\n",
              "0          0               0                   0                          1   \n",
              "1          0               0                   0                          0   \n",
              "2          0               1                   0                          1   \n",
              "3          0               0                   0                          0   \n",
              "4          0               0                   1                          1   \n",
              "\n",
              "   Forgetfulness  Diagnosis  \n",
              "0              0          0  \n",
              "1              1          0  \n",
              "2              0          0  \n",
              "3              0          0  \n",
              "4              0          0  \n",
              "\n",
              "[5 rows x 33 columns]"
            ],
            "text/html": [
              "\n",
              "  <div id=\"df-a07ea1c6-5a38-42e5-85d0-69b5b60b0a92\" class=\"colab-df-container\">\n",
              "    <div>\n",
              "<style scoped>\n",
              "    .dataframe tbody tr th:only-of-type {\n",
              "        vertical-align: middle;\n",
              "    }\n",
              "\n",
              "    .dataframe tbody tr th {\n",
              "        vertical-align: top;\n",
              "    }\n",
              "\n",
              "    .dataframe thead th {\n",
              "        text-align: right;\n",
              "    }\n",
              "</style>\n",
              "<table border=\"1\" class=\"dataframe\">\n",
              "  <thead>\n",
              "    <tr style=\"text-align: right;\">\n",
              "      <th></th>\n",
              "      <th>Age</th>\n",
              "      <th>Gender</th>\n",
              "      <th>Ethnicity</th>\n",
              "      <th>EducationLevel</th>\n",
              "      <th>BMI</th>\n",
              "      <th>Smoking</th>\n",
              "      <th>AlcoholConsumption</th>\n",
              "      <th>PhysicalActivity</th>\n",
              "      <th>DietQuality</th>\n",
              "      <th>SleepQuality</th>\n",
              "      <th>...</th>\n",
              "      <th>FunctionalAssessment</th>\n",
              "      <th>MemoryComplaints</th>\n",
              "      <th>BehavioralProblems</th>\n",
              "      <th>ADL</th>\n",
              "      <th>Confusion</th>\n",
              "      <th>Disorientation</th>\n",
              "      <th>PersonalityChanges</th>\n",
              "      <th>DifficultyCompletingTasks</th>\n",
              "      <th>Forgetfulness</th>\n",
              "      <th>Diagnosis</th>\n",
              "    </tr>\n",
              "  </thead>\n",
              "  <tbody>\n",
              "    <tr>\n",
              "      <th>0</th>\n",
              "      <td>0.433333</td>\n",
              "      <td>0</td>\n",
              "      <td>0</td>\n",
              "      <td>2</td>\n",
              "      <td>0.316960</td>\n",
              "      <td>0</td>\n",
              "      <td>0.665183</td>\n",
              "      <td>0.633375</td>\n",
              "      <td>1.347214</td>\n",
              "      <td>9.025679</td>\n",
              "      <td>...</td>\n",
              "      <td>6.518877</td>\n",
              "      <td>0</td>\n",
              "      <td>0</td>\n",
              "      <td>1.725883</td>\n",
              "      <td>0</td>\n",
              "      <td>0</td>\n",
              "      <td>0</td>\n",
              "      <td>1</td>\n",
              "      <td>0</td>\n",
              "      <td>0</td>\n",
              "    </tr>\n",
              "    <tr>\n",
              "      <th>1</th>\n",
              "      <td>0.966667</td>\n",
              "      <td>0</td>\n",
              "      <td>0</td>\n",
              "      <td>0</td>\n",
              "      <td>0.473058</td>\n",
              "      <td>0</td>\n",
              "      <td>0.227170</td>\n",
              "      <td>0.762862</td>\n",
              "      <td>0.518767</td>\n",
              "      <td>7.151293</td>\n",
              "      <td>...</td>\n",
              "      <td>7.118696</td>\n",
              "      <td>0</td>\n",
              "      <td>0</td>\n",
              "      <td>2.592424</td>\n",
              "      <td>0</td>\n",
              "      <td>0</td>\n",
              "      <td>0</td>\n",
              "      <td>0</td>\n",
              "      <td>1</td>\n",
              "      <td>0</td>\n",
              "    </tr>\n",
              "    <tr>\n",
              "      <th>2</th>\n",
              "      <td>0.433333</td>\n",
              "      <td>0</td>\n",
              "      <td>3</td>\n",
              "      <td>1</td>\n",
              "      <td>0.111553</td>\n",
              "      <td>0</td>\n",
              "      <td>0.978276</td>\n",
              "      <td>0.785408</td>\n",
              "      <td>1.826335</td>\n",
              "      <td>9.673574</td>\n",
              "      <td>...</td>\n",
              "      <td>5.895077</td>\n",
              "      <td>0</td>\n",
              "      <td>0</td>\n",
              "      <td>7.119548</td>\n",
              "      <td>0</td>\n",
              "      <td>1</td>\n",
              "      <td>0</td>\n",
              "      <td>1</td>\n",
              "      <td>0</td>\n",
              "      <td>0</td>\n",
              "    </tr>\n",
              "    <tr>\n",
              "      <th>3</th>\n",
              "      <td>0.466667</td>\n",
              "      <td>1</td>\n",
              "      <td>0</td>\n",
              "      <td>1</td>\n",
              "      <td>0.752163</td>\n",
              "      <td>1</td>\n",
              "      <td>0.610751</td>\n",
              "      <td>0.843804</td>\n",
              "      <td>7.435604</td>\n",
              "      <td>8.392554</td>\n",
              "      <td>...</td>\n",
              "      <td>8.965106</td>\n",
              "      <td>0</td>\n",
              "      <td>1</td>\n",
              "      <td>6.481226</td>\n",
              "      <td>0</td>\n",
              "      <td>0</td>\n",
              "      <td>0</td>\n",
              "      <td>0</td>\n",
              "      <td>0</td>\n",
              "      <td>0</td>\n",
              "    </tr>\n",
              "    <tr>\n",
              "      <th>4</th>\n",
              "      <td>0.966667</td>\n",
              "      <td>0</td>\n",
              "      <td>0</td>\n",
              "      <td>0</td>\n",
              "      <td>0.228472</td>\n",
              "      <td>0</td>\n",
              "      <td>0.923204</td>\n",
              "      <td>0.631707</td>\n",
              "      <td>0.795498</td>\n",
              "      <td>5.597238</td>\n",
              "      <td>...</td>\n",
              "      <td>6.045039</td>\n",
              "      <td>0</td>\n",
              "      <td>0</td>\n",
              "      <td>0.014691</td>\n",
              "      <td>0</td>\n",
              "      <td>0</td>\n",
              "      <td>1</td>\n",
              "      <td>1</td>\n",
              "      <td>0</td>\n",
              "      <td>0</td>\n",
              "    </tr>\n",
              "  </tbody>\n",
              "</table>\n",
              "<p>5 rows × 33 columns</p>\n",
              "</div>\n",
              "    <div class=\"colab-df-buttons\">\n",
              "\n",
              "  <div class=\"colab-df-container\">\n",
              "    <button class=\"colab-df-convert\" onclick=\"convertToInteractive('df-a07ea1c6-5a38-42e5-85d0-69b5b60b0a92')\"\n",
              "            title=\"Convert this dataframe to an interactive table.\"\n",
              "            style=\"display:none;\">\n",
              "\n",
              "  <svg xmlns=\"http://www.w3.org/2000/svg\" height=\"24px\" viewBox=\"0 -960 960 960\">\n",
              "    <path d=\"M120-120v-720h720v720H120Zm60-500h600v-160H180v160Zm220 220h160v-160H400v160Zm0 220h160v-160H400v160ZM180-400h160v-160H180v160Zm440 0h160v-160H620v160ZM180-180h160v-160H180v160Zm440 0h160v-160H620v160Z\"/>\n",
              "  </svg>\n",
              "    </button>\n",
              "\n",
              "  <style>\n",
              "    .colab-df-container {\n",
              "      display:flex;\n",
              "      gap: 12px;\n",
              "    }\n",
              "\n",
              "    .colab-df-convert {\n",
              "      background-color: #E8F0FE;\n",
              "      border: none;\n",
              "      border-radius: 50%;\n",
              "      cursor: pointer;\n",
              "      display: none;\n",
              "      fill: #1967D2;\n",
              "      height: 32px;\n",
              "      padding: 0 0 0 0;\n",
              "      width: 32px;\n",
              "    }\n",
              "\n",
              "    .colab-df-convert:hover {\n",
              "      background-color: #E2EBFA;\n",
              "      box-shadow: 0px 1px 2px rgba(60, 64, 67, 0.3), 0px 1px 3px 1px rgba(60, 64, 67, 0.15);\n",
              "      fill: #174EA6;\n",
              "    }\n",
              "\n",
              "    .colab-df-buttons div {\n",
              "      margin-bottom: 4px;\n",
              "    }\n",
              "\n",
              "    [theme=dark] .colab-df-convert {\n",
              "      background-color: #3B4455;\n",
              "      fill: #D2E3FC;\n",
              "    }\n",
              "\n",
              "    [theme=dark] .colab-df-convert:hover {\n",
              "      background-color: #434B5C;\n",
              "      box-shadow: 0px 1px 3px 1px rgba(0, 0, 0, 0.15);\n",
              "      filter: drop-shadow(0px 1px 2px rgba(0, 0, 0, 0.3));\n",
              "      fill: #FFFFFF;\n",
              "    }\n",
              "  </style>\n",
              "\n",
              "    <script>\n",
              "      const buttonEl =\n",
              "        document.querySelector('#df-a07ea1c6-5a38-42e5-85d0-69b5b60b0a92 button.colab-df-convert');\n",
              "      buttonEl.style.display =\n",
              "        google.colab.kernel.accessAllowed ? 'block' : 'none';\n",
              "\n",
              "      async function convertToInteractive(key) {\n",
              "        const element = document.querySelector('#df-a07ea1c6-5a38-42e5-85d0-69b5b60b0a92');\n",
              "        const dataTable =\n",
              "          await google.colab.kernel.invokeFunction('convertToInteractive',\n",
              "                                                    [key], {});\n",
              "        if (!dataTable) return;\n",
              "\n",
              "        const docLinkHtml = 'Like what you see? Visit the ' +\n",
              "          '<a target=\"_blank\" href=https://colab.research.google.com/notebooks/data_table.ipynb>data table notebook</a>'\n",
              "          + ' to learn more about interactive tables.';\n",
              "        element.innerHTML = '';\n",
              "        dataTable['output_type'] = 'display_data';\n",
              "        await google.colab.output.renderOutput(dataTable, element);\n",
              "        const docLink = document.createElement('div');\n",
              "        docLink.innerHTML = docLinkHtml;\n",
              "        element.appendChild(docLink);\n",
              "      }\n",
              "    </script>\n",
              "  </div>\n",
              "\n",
              "\n",
              "<div id=\"df-7a7611cf-5f3d-4e19-a206-b74d5b39d22f\">\n",
              "  <button class=\"colab-df-quickchart\" onclick=\"quickchart('df-7a7611cf-5f3d-4e19-a206-b74d5b39d22f')\"\n",
              "            title=\"Suggest charts\"\n",
              "            style=\"display:none;\">\n",
              "\n",
              "<svg xmlns=\"http://www.w3.org/2000/svg\" height=\"24px\"viewBox=\"0 0 24 24\"\n",
              "     width=\"24px\">\n",
              "    <g>\n",
              "        <path d=\"M19 3H5c-1.1 0-2 .9-2 2v14c0 1.1.9 2 2 2h14c1.1 0 2-.9 2-2V5c0-1.1-.9-2-2-2zM9 17H7v-7h2v7zm4 0h-2V7h2v10zm4 0h-2v-4h2v4z\"/>\n",
              "    </g>\n",
              "</svg>\n",
              "  </button>\n",
              "\n",
              "<style>\n",
              "  .colab-df-quickchart {\n",
              "      --bg-color: #E8F0FE;\n",
              "      --fill-color: #1967D2;\n",
              "      --hover-bg-color: #E2EBFA;\n",
              "      --hover-fill-color: #174EA6;\n",
              "      --disabled-fill-color: #AAA;\n",
              "      --disabled-bg-color: #DDD;\n",
              "  }\n",
              "\n",
              "  [theme=dark] .colab-df-quickchart {\n",
              "      --bg-color: #3B4455;\n",
              "      --fill-color: #D2E3FC;\n",
              "      --hover-bg-color: #434B5C;\n",
              "      --hover-fill-color: #FFFFFF;\n",
              "      --disabled-bg-color: #3B4455;\n",
              "      --disabled-fill-color: #666;\n",
              "  }\n",
              "\n",
              "  .colab-df-quickchart {\n",
              "    background-color: var(--bg-color);\n",
              "    border: none;\n",
              "    border-radius: 50%;\n",
              "    cursor: pointer;\n",
              "    display: none;\n",
              "    fill: var(--fill-color);\n",
              "    height: 32px;\n",
              "    padding: 0;\n",
              "    width: 32px;\n",
              "  }\n",
              "\n",
              "  .colab-df-quickchart:hover {\n",
              "    background-color: var(--hover-bg-color);\n",
              "    box-shadow: 0 1px 2px rgba(60, 64, 67, 0.3), 0 1px 3px 1px rgba(60, 64, 67, 0.15);\n",
              "    fill: var(--button-hover-fill-color);\n",
              "  }\n",
              "\n",
              "  .colab-df-quickchart-complete:disabled,\n",
              "  .colab-df-quickchart-complete:disabled:hover {\n",
              "    background-color: var(--disabled-bg-color);\n",
              "    fill: var(--disabled-fill-color);\n",
              "    box-shadow: none;\n",
              "  }\n",
              "\n",
              "  .colab-df-spinner {\n",
              "    border: 2px solid var(--fill-color);\n",
              "    border-color: transparent;\n",
              "    border-bottom-color: var(--fill-color);\n",
              "    animation:\n",
              "      spin 1s steps(1) infinite;\n",
              "  }\n",
              "\n",
              "  @keyframes spin {\n",
              "    0% {\n",
              "      border-color: transparent;\n",
              "      border-bottom-color: var(--fill-color);\n",
              "      border-left-color: var(--fill-color);\n",
              "    }\n",
              "    20% {\n",
              "      border-color: transparent;\n",
              "      border-left-color: var(--fill-color);\n",
              "      border-top-color: var(--fill-color);\n",
              "    }\n",
              "    30% {\n",
              "      border-color: transparent;\n",
              "      border-left-color: var(--fill-color);\n",
              "      border-top-color: var(--fill-color);\n",
              "      border-right-color: var(--fill-color);\n",
              "    }\n",
              "    40% {\n",
              "      border-color: transparent;\n",
              "      border-right-color: var(--fill-color);\n",
              "      border-top-color: var(--fill-color);\n",
              "    }\n",
              "    60% {\n",
              "      border-color: transparent;\n",
              "      border-right-color: var(--fill-color);\n",
              "    }\n",
              "    80% {\n",
              "      border-color: transparent;\n",
              "      border-right-color: var(--fill-color);\n",
              "      border-bottom-color: var(--fill-color);\n",
              "    }\n",
              "    90% {\n",
              "      border-color: transparent;\n",
              "      border-bottom-color: var(--fill-color);\n",
              "    }\n",
              "  }\n",
              "</style>\n",
              "\n",
              "  <script>\n",
              "    async function quickchart(key) {\n",
              "      const quickchartButtonEl =\n",
              "        document.querySelector('#' + key + ' button');\n",
              "      quickchartButtonEl.disabled = true;  // To prevent multiple clicks.\n",
              "      quickchartButtonEl.classList.add('colab-df-spinner');\n",
              "      try {\n",
              "        const charts = await google.colab.kernel.invokeFunction(\n",
              "            'suggestCharts', [key], {});\n",
              "      } catch (error) {\n",
              "        console.error('Error during call to suggestCharts:', error);\n",
              "      }\n",
              "      quickchartButtonEl.classList.remove('colab-df-spinner');\n",
              "      quickchartButtonEl.classList.add('colab-df-quickchart-complete');\n",
              "    }\n",
              "    (() => {\n",
              "      let quickchartButtonEl =\n",
              "        document.querySelector('#df-7a7611cf-5f3d-4e19-a206-b74d5b39d22f button');\n",
              "      quickchartButtonEl.style.display =\n",
              "        google.colab.kernel.accessAllowed ? 'block' : 'none';\n",
              "    })();\n",
              "  </script>\n",
              "</div>\n",
              "\n",
              "    </div>\n",
              "  </div>\n"
            ],
            "application/vnd.google.colaboratory.intrinsic+json": {
              "type": "dataframe",
              "variable_name": "csv_data"
            }
          },
          "metadata": {},
          "execution_count": 14
        }
      ],
      "source": [
        "scaler = MinMaxScaler()\n",
        "numeric_features = ['Age', 'BMI', 'AlcoholConsumption', 'PhysicalActivity', 'MMSE']\n",
        "csv_data[numeric_features] = scaler.fit_transform(csv_data[numeric_features])\n",
        "csv_data.head()"
      ]
    },
    {
      "cell_type": "markdown",
      "metadata": {
        "id": "8ezjkPHfS7OF"
      },
      "source": [
        "Before spliting the data into Training and Testing sets!"
      ]
    },
    {
      "cell_type": "markdown",
      "metadata": {
        "id": "l4kWOUSkcM_D"
      },
      "source": [
        "While we do this, let's keep in mind that our target variable is 'Diagnoses', we would like to use an 80/20 train/test split percentage, and we would like to use stratification.\n",
        "\n",
        "By using stratification, we are making sure that our model is trained and evaluated on a representative sample of all diagnosis categories. This is crucial to avoid biased results, especially if a diagnosis category is under-represented in our data."
      ]
    },
    {
      "cell_type": "code",
      "execution_count": null,
      "metadata": {
        "id": "vtQAhZg_StY4"
      },
      "outputs": [],
      "source": [
        "X = csv_data.drop(columns=['Diagnosis'])\n",
        "y = csv_data['Diagnosis']\n",
        "X_train, X_test, y_train, y_test = train_test_split(X, y, test_size=0.2, random_state=42, stratify=y)"
      ]
    },
    {
      "cell_type": "markdown",
      "metadata": {
        "id": "TToaebgWc703"
      },
      "source": [
        "Now let's print the shapes of the training and testing sets, to visualize the split."
      ]
    },
    {
      "cell_type": "code",
      "execution_count": null,
      "metadata": {
        "colab": {
          "base_uri": "https://localhost:8080/"
        },
        "id": "vE0lCs1xbELx",
        "outputId": "9e2dc148-e7c7-4913-cb98-ce1349fe58f9"
      },
      "outputs": [
        {
          "output_type": "stream",
          "name": "stdout",
          "text": [
            "Training set size (X_train, y_train): (1719, 32) (1719,)\n",
            "Testing set size (X_test, y_test): (430, 32) (430,)\n"
          ]
        }
      ],
      "source": [
        "print(\"Training set size (X_train, y_train):\", X_train.shape, y_train.shape)\n",
        "print(\"Testing set size (X_test, y_test):\", X_test.shape, y_test.shape)"
      ]
    },
    {
      "cell_type": "markdown",
      "metadata": {
        "id": "dMxrw9-iji4a"
      },
      "source": [
        "### B. Images"
      ]
    },
    {
      "cell_type": "markdown",
      "source": [
        "To begin preprocessing the images, let's create a new folder called \"With Dementia\" that holds all of the images from all 3 of the 4 sub-folders that represent at least some degree of dementia. We can name the path variable to this folder \"with_images_path\"."
      ],
      "metadata": {
        "id": "7qvOYOsgdN1D"
      }
    },
    {
      "cell_type": "code",
      "execution_count": null,
      "metadata": {
        "colab": {
          "base_uri": "https://localhost:8080/"
        },
        "id": "28uqn_jnDqEj",
        "outputId": "1ca96802-62ab-4af3-a383-e1ef4ac1583b"
      },
      "outputs": [
        {
          "output_type": "stream",
          "name": "stdout",
          "text": [
            "All images from 'Very mild Dementia', 'Mild Dementia', and 'Moderate Dementia' have been copied to '/root/.cache/kagglehub/datasets/ninadaithal/imagesoasis/versions/1/Data/With Dementia'.\n"
          ]
        }
      ],
      "source": [
        "with_images_path = os.path.join(images_data_path, 'With Dementia')\n",
        "if not os.path.exists(with_images_path):\n",
        "    os.makedirs(with_images_path)\n",
        "def move_images_to_with_dementia(src_paths, dest_path):\n",
        "    for src_path in src_paths:\n",
        "        for filename in os.listdir(src_path):\n",
        "            file_path = os.path.join(src_path, filename)\n",
        "            if os.path.isfile(file_path):\n",
        "                shutil.copy(file_path, dest_path)\n",
        "move_images_to_with_dementia(\n",
        "    [vmild_images_path, mild_images_path, mod_images_path],\n",
        "    with_images_path\n",
        ")\n",
        "print(f\"All images from 'Very mild Dementia', 'Mild Dementia', and 'Moderate Dementia' have been copied to '{with_images_path}'.\")"
      ]
    },
    {
      "cell_type": "markdown",
      "source": [
        "Let's go back and review the updated contents of the images dataset folder."
      ],
      "metadata": {
        "id": "5feqQJcEfOQM"
      }
    },
    {
      "cell_type": "code",
      "execution_count": null,
      "metadata": {
        "colab": {
          "base_uri": "https://localhost:8080/"
        },
        "id": "h-FplQ-IDwRc",
        "outputId": "8dc30166-5b4b-4167-c5f4-50f6869e869a"
      },
      "outputs": [
        {
          "output_type": "stream",
          "name": "stdout",
          "text": [
            "Contents of images dataset folder:\n",
            "\n",
            "Data\n",
            "    Mild Dementia\n",
            "        Number of sub-subitems: 5002\n",
            "    Non Demented\n",
            "        Number of sub-subitems: 67222\n",
            "    Very mild Dementia\n",
            "        Number of sub-subitems: 13725\n",
            "    With Dementia\n",
            "        Number of sub-subitems: 19215\n",
            "    Moderate Dementia\n",
            "        Number of sub-subitems: 488\n"
          ]
        }
      ],
      "source": [
        "images_folder_contents = os.listdir(path_images)\n",
        "print(\"Contents of images dataset folder:\\n\")\n",
        "for item in images_folder_contents:\n",
        "    print(item)\n",
        "    if os.path.isdir(os.path.join(path_images, item)):\n",
        "        subitems = os.listdir(os.path.join(path_images, item))\n",
        "        subitem_count = len(subitems)\n",
        "        if subitem_count < 10:\n",
        "            for subitem in subitems:\n",
        "                print(\"   \",subitem)\n",
        "                subitem_path = os.path.join(path_images, item, subitem)\n",
        "                if os.path.isdir(subitem_path):\n",
        "                    sub_subitems_count = len(os.listdir(subitem_path))\n",
        "                    print(f\"        Number of sub-subitems: {sub_subitems_count}\")\n",
        "        else:\n",
        "            print(f\"Number of subitems: {subitem_count}\")\n",
        "    else:\n",
        "        print(\"    None\")"
      ]
    },
    {
      "cell_type": "markdown",
      "source": [
        "The \"With Dementia\" folder should have images equal to 13725 + 5002 + 488, or 19215. So that is correct!"
      ],
      "metadata": {
        "id": "77C_18LIfYJz"
      }
    },
    {
      "cell_type": "markdown",
      "source": [
        "Now let's create a function that labels and copies files from the source path to the destination path. The labels will work by adding a prefix to the filename."
      ],
      "metadata": {
        "id": "7J0i7Q7el3XS"
      }
    },
    {
      "cell_type": "code",
      "source": [
        "def label_and_copy_files(source_path, destination_path, label):\n",
        "    os.makedirs(destination_path, exist_ok=True)\n",
        "    for idx, filename in enumerate(os.listdir(source_path)):\n",
        "        file_path = os.path.join(source_path, filename)\n",
        "        if os.path.isfile(file_path):\n",
        "            file_ext = os.path.splitext(filename)[1]\n",
        "            new_filename = f\"{label}_{idx}{file_ext}\"\n",
        "            shutil.copy(file_path, os.path.join(destination_path, new_filename))"
      ],
      "metadata": {
        "id": "SoA8Yj3BmUyQ"
      },
      "execution_count": null,
      "outputs": []
    },
    {
      "cell_type": "markdown",
      "source": [
        "To use this function with our code, we can create a new destination folder path to hold all images once they are labeled. We can go ahead and follow the same format as with the target variable \"Diagnosis\" on the patient data CSV - a \"0\" label to represent no dementia detected and a \"1\" label to represent any level of dementia detected."
      ],
      "metadata": {
        "id": "HWo1u4NxmT_7"
      }
    },
    {
      "cell_type": "code",
      "execution_count": null,
      "metadata": {
        "colab": {
          "base_uri": "https://localhost:8080/"
        },
        "id": "1kCAjshGF1SD",
        "outputId": "e50f7bd0-032c-452a-ccc3-5160cce506fe"
      },
      "outputs": [
        {
          "output_type": "stream",
          "name": "stdout",
          "text": [
            "All labeled images have been combined into: /root/.cache/kagglehub/datasets/ninadaithal/imagesoasis/versions/1/Data/All Labeled Images\n"
          ]
        }
      ],
      "source": [
        "all_labeled_images_path = os.path.join(images_data_path, 'All Labeled Images')\n",
        "label_and_copy_files(non_images_path, all_labeled_images_path, \"0\")\n",
        "label_and_copy_files(with_images_path, all_labeled_images_path, \"1\")\n",
        "print(f\"All labeled images have been combined into: {all_labeled_images_path}\")"
      ]
    },
    {
      "cell_type": "markdown",
      "source": [
        "Let's now take another look at the updated contents of the images dataset folder."
      ],
      "metadata": {
        "id": "A_7ouKjPoLfm"
      }
    },
    {
      "cell_type": "code",
      "execution_count": null,
      "metadata": {
        "colab": {
          "base_uri": "https://localhost:8080/"
        },
        "id": "yGEp623wF2li",
        "outputId": "ef2841b3-8f0f-4ab0-8aa2-8eb9324575b3"
      },
      "outputs": [
        {
          "output_type": "stream",
          "name": "stdout",
          "text": [
            "Contents of images dataset folder:\n",
            "\n",
            "Data\n",
            "    Mild Dementia\n",
            "        Number of sub-subitems: 5002\n",
            "    Non Demented\n",
            "        Number of sub-subitems: 67222\n",
            "    Very mild Dementia\n",
            "        Number of sub-subitems: 13725\n",
            "    With Dementia\n",
            "        Number of sub-subitems: 19215\n",
            "    All Labeled Images\n",
            "        Number of sub-subitems: 86437\n",
            "    Moderate Dementia\n",
            "        Number of sub-subitems: 488\n"
          ]
        }
      ],
      "source": [
        "images_folder_contents = os.listdir(path_images)\n",
        "print(\"Contents of images dataset folder:\\n\")\n",
        "for item in images_folder_contents:\n",
        "    print(item)\n",
        "    if os.path.isdir(os.path.join(path_images, item)):\n",
        "        subitems = os.listdir(os.path.join(path_images, item))\n",
        "        subitem_count = len(subitems)\n",
        "        if subitem_count < 10:\n",
        "            for subitem in subitems:\n",
        "                print(\"   \",subitem)\n",
        "                subitem_path = os.path.join(path_images, item, subitem)\n",
        "                if os.path.isdir(subitem_path):\n",
        "                    sub_subitems_count = len(os.listdir(subitem_path))\n",
        "                    print(f\"        Number of sub-subitems: {sub_subitems_count}\")\n",
        "        else:\n",
        "            print(f\"Number of subitems: {subitem_count}\")\n",
        "    else:\n",
        "        print(\"    None\")"
      ]
    },
    {
      "cell_type": "markdown",
      "source": [
        "The total number of images within the \"All Labeled Images\" folder should be 67222 + 19215, or 86437. Therefore, this is correct!"
      ],
      "metadata": {
        "id": "mvjOM0FooT1b"
      }
    },
    {
      "cell_type": "markdown",
      "source": [
        "We should also double check the labels, to ensure that the 67222 images without dementia are labeled \"0\" and the 19215 images with some degree of dementia are labeled \"1\"."
      ],
      "metadata": {
        "id": "b_85a117oqGq"
      }
    },
    {
      "cell_type": "code",
      "execution_count": null,
      "metadata": {
        "colab": {
          "base_uri": "https://localhost:8080/"
        },
        "id": "KP0QS2usGe7i",
        "outputId": "46c35f3d-308a-4fb9-bc5e-e6419e0bfbe9"
      },
      "outputs": [
        {
          "output_type": "stream",
          "name": "stdout",
          "text": [
            "Files labeled as '0': 67222\n",
            "Files labeled as '1': 19215\n"
          ]
        }
      ],
      "source": [
        "def count_labels_in_folder(path):\n",
        "    counts = {\"0\": 0, \"1\": 0}\n",
        "    for filename in os.listdir(path):\n",
        "        if filename.startswith(\"0_\"):\n",
        "            counts[\"0\"] += 1\n",
        "        elif filename.startswith(\"1_\"):\n",
        "            counts[\"1\"] += 1\n",
        "    return counts\n",
        "label_counts = count_labels_in_folder(all_labeled_images_path)\n",
        "print(f\"Files labeled as '0': {label_counts['0']}\")\n",
        "print(f\"Files labeled as '1': {label_counts['1']}\")"
      ]
    },
    {
      "cell_type": "markdown",
      "source": [
        "Great, this is also correct!"
      ],
      "metadata": {
        "id": "0sAMztt_uz3v"
      }
    },
    {
      "cell_type": "markdown",
      "source": [
        "Now we can proceed with preprocessing the images."
      ],
      "metadata": {
        "id": "7GfWTAO6vB1R"
      }
    },
    {
      "cell_type": "markdown",
      "source": [
        "Let's split the dataset into training, validation, and test sets. The training and test sets will first be created using an 80/20 split, respectively. Then, the training set will be split again into another 80/20 split, this time representing the training/validation sets respectively."
      ],
      "metadata": {
        "id": "DL-5degTv92W"
      }
    },
    {
      "cell_type": "code",
      "execution_count": null,
      "metadata": {
        "id": "5_ANlQgT4pwx"
      },
      "outputs": [],
      "source": [
        "def split_dataset(all_images_path, test_size=0.2, val_size=0.2):\n",
        "    filepaths = []\n",
        "    labels = []\n",
        "    for filename in os.listdir(all_images_path):\n",
        "        if filename.startswith(\"0_\"):\n",
        "            labels.append(0)\n",
        "        elif filename.startswith(\"1_\"):\n",
        "            labels.append(1)\n",
        "        else:\n",
        "            continue\n",
        "        filepaths.append(os.path.join(all_images_path, filename))\n",
        "    train_files, test_files, train_labels, test_labels = train_test_split(\n",
        "        filepaths, labels, test_size=test_size, stratify=labels, random_state=42\n",
        "    )\n",
        "    train_files, val_files, train_labels, val_labels = train_test_split(\n",
        "        train_files, train_labels, test_size=val_size / (1 - test_size), stratify=train_labels, random_state=42\n",
        "    )\n",
        "    return train_files, val_files, test_files, train_labels, val_labels, test_labels\n",
        "train_files, val_files, test_files, train_labels, val_labels, test_labels = split_dataset(all_labeled_images_path)"
      ]
    },
    {
      "cell_type": "markdown",
      "source": [
        "Then we can create variables for our model parameters! Keep in mind that the input size for the model we will be using is 224 x 224."
      ],
      "metadata": {
        "id": "HjSAIdGFyfdc"
      }
    },
    {
      "cell_type": "code",
      "execution_count": null,
      "metadata": {
        "id": "J51KEkBF4mr0"
      },
      "outputs": [],
      "source": [
        "batch_size = 32\n",
        "image_size = (224, 224)\n",
        "epochs = 10\n",
        "learning_rate = 0.001"
      ]
    },
    {
      "cell_type": "markdown",
      "source": [
        "Now we can create Image Data Generators using these parameters, including a training generator, validation generator, and testing generator.\n",
        "\n",
        "Some additional preprocessing we will do in this function include creating pandas DataFrames for each set and converting all labels to string format. For the training set, we will complete data augmentation such as rescaling, including a flip, rotation, and zoom."
      ],
      "metadata": {
        "id": "JBNQ6P_NxLut"
      }
    },
    {
      "cell_type": "code",
      "execution_count": null,
      "metadata": {
        "colab": {
          "base_uri": "https://localhost:8080/"
        },
        "id": "C2r1ibDI400J",
        "outputId": "a94dfd1c-9d6d-461a-f3e9-ec6637d4c2fa"
      },
      "outputs": [
        {
          "output_type": "stream",
          "name": "stdout",
          "text": [
            "Found 51861 validated image filenames belonging to 2 classes.\n",
            "Found 17288 validated image filenames belonging to 2 classes.\n",
            "Found 17288 validated image filenames belonging to 2 classes.\n"
          ]
        }
      ],
      "source": [
        "def create_generators(train_files, val_files, test_files, train_labels, val_labels, test_labels, image_size, batch_size):\n",
        "    train_df = pd.DataFrame({\"filename\": train_files, \"class\": train_labels})\n",
        "    val_df = pd.DataFrame({\"filename\": val_files, \"class\": val_labels})\n",
        "    test_df = pd.DataFrame({\"filename\": test_files, \"class\": test_labels})\n",
        "    train_df['class'] = train_df['class'].astype(str)\n",
        "    val_df['class'] = val_df['class'].astype(str)\n",
        "    test_df['class'] = test_df['class'].astype(str)\n",
        "    train_datagen = ImageDataGenerator(\n",
        "        rescale=1.0 / 255,\n",
        "        horizontal_flip=True,\n",
        "        rotation_range=20,\n",
        "        zoom_range=0.2\n",
        "    )\n",
        "    val_test_datagen = ImageDataGenerator(rescale=1.0 / 255)\n",
        "    train_generator = train_datagen.flow_from_dataframe(\n",
        "        dataframe=train_df,\n",
        "        x_col=\"filename\",\n",
        "        y_col=\"class\",\n",
        "        target_size=image_size,\n",
        "        batch_size=batch_size,\n",
        "        class_mode=\"binary\"\n",
        "    )\n",
        "    val_generator = val_test_datagen.flow_from_dataframe(\n",
        "        dataframe=val_df,\n",
        "        x_col=\"filename\",\n",
        "        y_col=\"class\",\n",
        "        target_size=image_size,\n",
        "        batch_size=batch_size,\n",
        "        class_mode=\"binary\"\n",
        "    )\n",
        "    test_generator = val_test_datagen.flow_from_dataframe(\n",
        "        dataframe=test_df,\n",
        "        x_col=\"filename\",\n",
        "        y_col=\"class\",\n",
        "        target_size=image_size,\n",
        "        batch_size=batch_size,\n",
        "        class_mode=\"binary\",\n",
        "        shuffle=False\n",
        "    )\n",
        "    return train_generator, val_generator, test_generator\n",
        "train_generator, val_generator, test_generator = create_generators(\n",
        "    train_files, val_files, test_files, train_labels, val_labels, test_labels, image_size, batch_size\n",
        ")"
      ]
    },
    {
      "cell_type": "markdown",
      "source": [
        "Wonderful, our images have been appropriately split! Now we can proceed to building our models."
      ],
      "metadata": {
        "id": "ckWM3dEb0AEY"
      }
    },
    {
      "cell_type": "markdown",
      "metadata": {
        "id": "WDjPbRTq4VX1"
      },
      "source": [
        "# **Step 3: Model Building**"
      ]
    },
    {
      "cell_type": "markdown",
      "source": [
        "Here, we will once again use several packages from the sklearn and tensorflow libraries."
      ],
      "metadata": {
        "id": "knW_UgBsMWz5"
      }
    },
    {
      "cell_type": "code",
      "execution_count": null,
      "metadata": {
        "id": "kAXRwj2yCZMJ"
      },
      "outputs": [],
      "source": [
        "from tensorflow.keras.models import Model\n",
        "from sklearn.naive_bayes import GaussianNB\n",
        "from tensorflow.keras.optimizers import Adam\n",
        "from sklearn.tree import DecisionTreeClassifier\n",
        "from tensorflow.keras.applications import MobileNetV2\n",
        "from tensorflow.keras.layers import GlobalAveragePooling2D, Dense"
      ]
    },
    {
      "cell_type": "markdown",
      "metadata": {
        "id": "Hemkc5JE4N6c"
      },
      "source": [
        "### A. CSV"
      ]
    },
    {
      "cell_type": "markdown",
      "source": [
        "We will be applying our CSV-based patient data to two machine learning models:\n",
        "- Decision Tree, and\n",
        "- Naïve Bayes"
      ],
      "metadata": {
        "id": "SlUzuqyV00UO"
      }
    },
    {
      "cell_type": "markdown",
      "metadata": {
        "id": "Fqq-rfxduskC"
      },
      "source": [
        "Let's first create a Decision Tree model using the csv data."
      ]
    },
    {
      "cell_type": "code",
      "source": [
        "dt = DecisionTreeClassifier(random_state=42)\n",
        "dt.fit(X_train, y_train)"
      ],
      "metadata": {
        "id": "oNoLyWntjRXj",
        "colab": {
          "base_uri": "https://localhost:8080/",
          "height": 81
        },
        "outputId": "b7fdf7ed-ad8b-4cf7-faee-3caf6c9dbf62"
      },
      "execution_count": null,
      "outputs": [
        {
          "output_type": "execute_result",
          "data": {
            "text/plain": [
              "DecisionTreeClassifier(random_state=42)"
            ],
            "text/html": [
              "<style>#sk-container-id-1 {\n",
              "  /* Definition of color scheme common for light and dark mode */\n",
              "  --sklearn-color-text: black;\n",
              "  --sklearn-color-line: gray;\n",
              "  /* Definition of color scheme for unfitted estimators */\n",
              "  --sklearn-color-unfitted-level-0: #fff5e6;\n",
              "  --sklearn-color-unfitted-level-1: #f6e4d2;\n",
              "  --sklearn-color-unfitted-level-2: #ffe0b3;\n",
              "  --sklearn-color-unfitted-level-3: chocolate;\n",
              "  /* Definition of color scheme for fitted estimators */\n",
              "  --sklearn-color-fitted-level-0: #f0f8ff;\n",
              "  --sklearn-color-fitted-level-1: #d4ebff;\n",
              "  --sklearn-color-fitted-level-2: #b3dbfd;\n",
              "  --sklearn-color-fitted-level-3: cornflowerblue;\n",
              "\n",
              "  /* Specific color for light theme */\n",
              "  --sklearn-color-text-on-default-background: var(--sg-text-color, var(--theme-code-foreground, var(--jp-content-font-color1, black)));\n",
              "  --sklearn-color-background: var(--sg-background-color, var(--theme-background, var(--jp-layout-color0, white)));\n",
              "  --sklearn-color-border-box: var(--sg-text-color, var(--theme-code-foreground, var(--jp-content-font-color1, black)));\n",
              "  --sklearn-color-icon: #696969;\n",
              "\n",
              "  @media (prefers-color-scheme: dark) {\n",
              "    /* Redefinition of color scheme for dark theme */\n",
              "    --sklearn-color-text-on-default-background: var(--sg-text-color, var(--theme-code-foreground, var(--jp-content-font-color1, white)));\n",
              "    --sklearn-color-background: var(--sg-background-color, var(--theme-background, var(--jp-layout-color0, #111)));\n",
              "    --sklearn-color-border-box: var(--sg-text-color, var(--theme-code-foreground, var(--jp-content-font-color1, white)));\n",
              "    --sklearn-color-icon: #878787;\n",
              "  }\n",
              "}\n",
              "\n",
              "#sk-container-id-1 {\n",
              "  color: var(--sklearn-color-text);\n",
              "}\n",
              "\n",
              "#sk-container-id-1 pre {\n",
              "  padding: 0;\n",
              "}\n",
              "\n",
              "#sk-container-id-1 input.sk-hidden--visually {\n",
              "  border: 0;\n",
              "  clip: rect(1px 1px 1px 1px);\n",
              "  clip: rect(1px, 1px, 1px, 1px);\n",
              "  height: 1px;\n",
              "  margin: -1px;\n",
              "  overflow: hidden;\n",
              "  padding: 0;\n",
              "  position: absolute;\n",
              "  width: 1px;\n",
              "}\n",
              "\n",
              "#sk-container-id-1 div.sk-dashed-wrapped {\n",
              "  border: 1px dashed var(--sklearn-color-line);\n",
              "  margin: 0 0.4em 0.5em 0.4em;\n",
              "  box-sizing: border-box;\n",
              "  padding-bottom: 0.4em;\n",
              "  background-color: var(--sklearn-color-background);\n",
              "}\n",
              "\n",
              "#sk-container-id-1 div.sk-container {\n",
              "  /* jupyter's `normalize.less` sets `[hidden] { display: none; }`\n",
              "     but bootstrap.min.css set `[hidden] { display: none !important; }`\n",
              "     so we also need the `!important` here to be able to override the\n",
              "     default hidden behavior on the sphinx rendered scikit-learn.org.\n",
              "     See: https://github.com/scikit-learn/scikit-learn/issues/21755 */\n",
              "  display: inline-block !important;\n",
              "  position: relative;\n",
              "}\n",
              "\n",
              "#sk-container-id-1 div.sk-text-repr-fallback {\n",
              "  display: none;\n",
              "}\n",
              "\n",
              "div.sk-parallel-item,\n",
              "div.sk-serial,\n",
              "div.sk-item {\n",
              "  /* draw centered vertical line to link estimators */\n",
              "  background-image: linear-gradient(var(--sklearn-color-text-on-default-background), var(--sklearn-color-text-on-default-background));\n",
              "  background-size: 2px 100%;\n",
              "  background-repeat: no-repeat;\n",
              "  background-position: center center;\n",
              "}\n",
              "\n",
              "/* Parallel-specific style estimator block */\n",
              "\n",
              "#sk-container-id-1 div.sk-parallel-item::after {\n",
              "  content: \"\";\n",
              "  width: 100%;\n",
              "  border-bottom: 2px solid var(--sklearn-color-text-on-default-background);\n",
              "  flex-grow: 1;\n",
              "}\n",
              "\n",
              "#sk-container-id-1 div.sk-parallel {\n",
              "  display: flex;\n",
              "  align-items: stretch;\n",
              "  justify-content: center;\n",
              "  background-color: var(--sklearn-color-background);\n",
              "  position: relative;\n",
              "}\n",
              "\n",
              "#sk-container-id-1 div.sk-parallel-item {\n",
              "  display: flex;\n",
              "  flex-direction: column;\n",
              "}\n",
              "\n",
              "#sk-container-id-1 div.sk-parallel-item:first-child::after {\n",
              "  align-self: flex-end;\n",
              "  width: 50%;\n",
              "}\n",
              "\n",
              "#sk-container-id-1 div.sk-parallel-item:last-child::after {\n",
              "  align-self: flex-start;\n",
              "  width: 50%;\n",
              "}\n",
              "\n",
              "#sk-container-id-1 div.sk-parallel-item:only-child::after {\n",
              "  width: 0;\n",
              "}\n",
              "\n",
              "/* Serial-specific style estimator block */\n",
              "\n",
              "#sk-container-id-1 div.sk-serial {\n",
              "  display: flex;\n",
              "  flex-direction: column;\n",
              "  align-items: center;\n",
              "  background-color: var(--sklearn-color-background);\n",
              "  padding-right: 1em;\n",
              "  padding-left: 1em;\n",
              "}\n",
              "\n",
              "\n",
              "/* Toggleable style: style used for estimator/Pipeline/ColumnTransformer box that is\n",
              "clickable and can be expanded/collapsed.\n",
              "- Pipeline and ColumnTransformer use this feature and define the default style\n",
              "- Estimators will overwrite some part of the style using the `sk-estimator` class\n",
              "*/\n",
              "\n",
              "/* Pipeline and ColumnTransformer style (default) */\n",
              "\n",
              "#sk-container-id-1 div.sk-toggleable {\n",
              "  /* Default theme specific background. It is overwritten whether we have a\n",
              "  specific estimator or a Pipeline/ColumnTransformer */\n",
              "  background-color: var(--sklearn-color-background);\n",
              "}\n",
              "\n",
              "/* Toggleable label */\n",
              "#sk-container-id-1 label.sk-toggleable__label {\n",
              "  cursor: pointer;\n",
              "  display: block;\n",
              "  width: 100%;\n",
              "  margin-bottom: 0;\n",
              "  padding: 0.5em;\n",
              "  box-sizing: border-box;\n",
              "  text-align: center;\n",
              "}\n",
              "\n",
              "#sk-container-id-1 label.sk-toggleable__label-arrow:before {\n",
              "  /* Arrow on the left of the label */\n",
              "  content: \"▸\";\n",
              "  float: left;\n",
              "  margin-right: 0.25em;\n",
              "  color: var(--sklearn-color-icon);\n",
              "}\n",
              "\n",
              "#sk-container-id-1 label.sk-toggleable__label-arrow:hover:before {\n",
              "  color: var(--sklearn-color-text);\n",
              "}\n",
              "\n",
              "/* Toggleable content - dropdown */\n",
              "\n",
              "#sk-container-id-1 div.sk-toggleable__content {\n",
              "  max-height: 0;\n",
              "  max-width: 0;\n",
              "  overflow: hidden;\n",
              "  text-align: left;\n",
              "  /* unfitted */\n",
              "  background-color: var(--sklearn-color-unfitted-level-0);\n",
              "}\n",
              "\n",
              "#sk-container-id-1 div.sk-toggleable__content.fitted {\n",
              "  /* fitted */\n",
              "  background-color: var(--sklearn-color-fitted-level-0);\n",
              "}\n",
              "\n",
              "#sk-container-id-1 div.sk-toggleable__content pre {\n",
              "  margin: 0.2em;\n",
              "  border-radius: 0.25em;\n",
              "  color: var(--sklearn-color-text);\n",
              "  /* unfitted */\n",
              "  background-color: var(--sklearn-color-unfitted-level-0);\n",
              "}\n",
              "\n",
              "#sk-container-id-1 div.sk-toggleable__content.fitted pre {\n",
              "  /* unfitted */\n",
              "  background-color: var(--sklearn-color-fitted-level-0);\n",
              "}\n",
              "\n",
              "#sk-container-id-1 input.sk-toggleable__control:checked~div.sk-toggleable__content {\n",
              "  /* Expand drop-down */\n",
              "  max-height: 200px;\n",
              "  max-width: 100%;\n",
              "  overflow: auto;\n",
              "}\n",
              "\n",
              "#sk-container-id-1 input.sk-toggleable__control:checked~label.sk-toggleable__label-arrow:before {\n",
              "  content: \"▾\";\n",
              "}\n",
              "\n",
              "/* Pipeline/ColumnTransformer-specific style */\n",
              "\n",
              "#sk-container-id-1 div.sk-label input.sk-toggleable__control:checked~label.sk-toggleable__label {\n",
              "  color: var(--sklearn-color-text);\n",
              "  background-color: var(--sklearn-color-unfitted-level-2);\n",
              "}\n",
              "\n",
              "#sk-container-id-1 div.sk-label.fitted input.sk-toggleable__control:checked~label.sk-toggleable__label {\n",
              "  background-color: var(--sklearn-color-fitted-level-2);\n",
              "}\n",
              "\n",
              "/* Estimator-specific style */\n",
              "\n",
              "/* Colorize estimator box */\n",
              "#sk-container-id-1 div.sk-estimator input.sk-toggleable__control:checked~label.sk-toggleable__label {\n",
              "  /* unfitted */\n",
              "  background-color: var(--sklearn-color-unfitted-level-2);\n",
              "}\n",
              "\n",
              "#sk-container-id-1 div.sk-estimator.fitted input.sk-toggleable__control:checked~label.sk-toggleable__label {\n",
              "  /* fitted */\n",
              "  background-color: var(--sklearn-color-fitted-level-2);\n",
              "}\n",
              "\n",
              "#sk-container-id-1 div.sk-label label.sk-toggleable__label,\n",
              "#sk-container-id-1 div.sk-label label {\n",
              "  /* The background is the default theme color */\n",
              "  color: var(--sklearn-color-text-on-default-background);\n",
              "}\n",
              "\n",
              "/* On hover, darken the color of the background */\n",
              "#sk-container-id-1 div.sk-label:hover label.sk-toggleable__label {\n",
              "  color: var(--sklearn-color-text);\n",
              "  background-color: var(--sklearn-color-unfitted-level-2);\n",
              "}\n",
              "\n",
              "/* Label box, darken color on hover, fitted */\n",
              "#sk-container-id-1 div.sk-label.fitted:hover label.sk-toggleable__label.fitted {\n",
              "  color: var(--sklearn-color-text);\n",
              "  background-color: var(--sklearn-color-fitted-level-2);\n",
              "}\n",
              "\n",
              "/* Estimator label */\n",
              "\n",
              "#sk-container-id-1 div.sk-label label {\n",
              "  font-family: monospace;\n",
              "  font-weight: bold;\n",
              "  display: inline-block;\n",
              "  line-height: 1.2em;\n",
              "}\n",
              "\n",
              "#sk-container-id-1 div.sk-label-container {\n",
              "  text-align: center;\n",
              "}\n",
              "\n",
              "/* Estimator-specific */\n",
              "#sk-container-id-1 div.sk-estimator {\n",
              "  font-family: monospace;\n",
              "  border: 1px dotted var(--sklearn-color-border-box);\n",
              "  border-radius: 0.25em;\n",
              "  box-sizing: border-box;\n",
              "  margin-bottom: 0.5em;\n",
              "  /* unfitted */\n",
              "  background-color: var(--sklearn-color-unfitted-level-0);\n",
              "}\n",
              "\n",
              "#sk-container-id-1 div.sk-estimator.fitted {\n",
              "  /* fitted */\n",
              "  background-color: var(--sklearn-color-fitted-level-0);\n",
              "}\n",
              "\n",
              "/* on hover */\n",
              "#sk-container-id-1 div.sk-estimator:hover {\n",
              "  /* unfitted */\n",
              "  background-color: var(--sklearn-color-unfitted-level-2);\n",
              "}\n",
              "\n",
              "#sk-container-id-1 div.sk-estimator.fitted:hover {\n",
              "  /* fitted */\n",
              "  background-color: var(--sklearn-color-fitted-level-2);\n",
              "}\n",
              "\n",
              "/* Specification for estimator info (e.g. \"i\" and \"?\") */\n",
              "\n",
              "/* Common style for \"i\" and \"?\" */\n",
              "\n",
              ".sk-estimator-doc-link,\n",
              "a:link.sk-estimator-doc-link,\n",
              "a:visited.sk-estimator-doc-link {\n",
              "  float: right;\n",
              "  font-size: smaller;\n",
              "  line-height: 1em;\n",
              "  font-family: monospace;\n",
              "  background-color: var(--sklearn-color-background);\n",
              "  border-radius: 1em;\n",
              "  height: 1em;\n",
              "  width: 1em;\n",
              "  text-decoration: none !important;\n",
              "  margin-left: 1ex;\n",
              "  /* unfitted */\n",
              "  border: var(--sklearn-color-unfitted-level-1) 1pt solid;\n",
              "  color: var(--sklearn-color-unfitted-level-1);\n",
              "}\n",
              "\n",
              ".sk-estimator-doc-link.fitted,\n",
              "a:link.sk-estimator-doc-link.fitted,\n",
              "a:visited.sk-estimator-doc-link.fitted {\n",
              "  /* fitted */\n",
              "  border: var(--sklearn-color-fitted-level-1) 1pt solid;\n",
              "  color: var(--sklearn-color-fitted-level-1);\n",
              "}\n",
              "\n",
              "/* On hover */\n",
              "div.sk-estimator:hover .sk-estimator-doc-link:hover,\n",
              ".sk-estimator-doc-link:hover,\n",
              "div.sk-label-container:hover .sk-estimator-doc-link:hover,\n",
              ".sk-estimator-doc-link:hover {\n",
              "  /* unfitted */\n",
              "  background-color: var(--sklearn-color-unfitted-level-3);\n",
              "  color: var(--sklearn-color-background);\n",
              "  text-decoration: none;\n",
              "}\n",
              "\n",
              "div.sk-estimator.fitted:hover .sk-estimator-doc-link.fitted:hover,\n",
              ".sk-estimator-doc-link.fitted:hover,\n",
              "div.sk-label-container:hover .sk-estimator-doc-link.fitted:hover,\n",
              ".sk-estimator-doc-link.fitted:hover {\n",
              "  /* fitted */\n",
              "  background-color: var(--sklearn-color-fitted-level-3);\n",
              "  color: var(--sklearn-color-background);\n",
              "  text-decoration: none;\n",
              "}\n",
              "\n",
              "/* Span, style for the box shown on hovering the info icon */\n",
              ".sk-estimator-doc-link span {\n",
              "  display: none;\n",
              "  z-index: 9999;\n",
              "  position: relative;\n",
              "  font-weight: normal;\n",
              "  right: .2ex;\n",
              "  padding: .5ex;\n",
              "  margin: .5ex;\n",
              "  width: min-content;\n",
              "  min-width: 20ex;\n",
              "  max-width: 50ex;\n",
              "  color: var(--sklearn-color-text);\n",
              "  box-shadow: 2pt 2pt 4pt #999;\n",
              "  /* unfitted */\n",
              "  background: var(--sklearn-color-unfitted-level-0);\n",
              "  border: .5pt solid var(--sklearn-color-unfitted-level-3);\n",
              "}\n",
              "\n",
              ".sk-estimator-doc-link.fitted span {\n",
              "  /* fitted */\n",
              "  background: var(--sklearn-color-fitted-level-0);\n",
              "  border: var(--sklearn-color-fitted-level-3);\n",
              "}\n",
              "\n",
              ".sk-estimator-doc-link:hover span {\n",
              "  display: block;\n",
              "}\n",
              "\n",
              "/* \"?\"-specific style due to the `<a>` HTML tag */\n",
              "\n",
              "#sk-container-id-1 a.estimator_doc_link {\n",
              "  float: right;\n",
              "  font-size: 1rem;\n",
              "  line-height: 1em;\n",
              "  font-family: monospace;\n",
              "  background-color: var(--sklearn-color-background);\n",
              "  border-radius: 1rem;\n",
              "  height: 1rem;\n",
              "  width: 1rem;\n",
              "  text-decoration: none;\n",
              "  /* unfitted */\n",
              "  color: var(--sklearn-color-unfitted-level-1);\n",
              "  border: var(--sklearn-color-unfitted-level-1) 1pt solid;\n",
              "}\n",
              "\n",
              "#sk-container-id-1 a.estimator_doc_link.fitted {\n",
              "  /* fitted */\n",
              "  border: var(--sklearn-color-fitted-level-1) 1pt solid;\n",
              "  color: var(--sklearn-color-fitted-level-1);\n",
              "}\n",
              "\n",
              "/* On hover */\n",
              "#sk-container-id-1 a.estimator_doc_link:hover {\n",
              "  /* unfitted */\n",
              "  background-color: var(--sklearn-color-unfitted-level-3);\n",
              "  color: var(--sklearn-color-background);\n",
              "  text-decoration: none;\n",
              "}\n",
              "\n",
              "#sk-container-id-1 a.estimator_doc_link.fitted:hover {\n",
              "  /* fitted */\n",
              "  background-color: var(--sklearn-color-fitted-level-3);\n",
              "}\n",
              "</style><div id=\"sk-container-id-1\" class=\"sk-top-container\"><div class=\"sk-text-repr-fallback\"><pre>DecisionTreeClassifier(random_state=42)</pre><b>In a Jupyter environment, please rerun this cell to show the HTML representation or trust the notebook. <br />On GitHub, the HTML representation is unable to render, please try loading this page with nbviewer.org.</b></div><div class=\"sk-container\" hidden><div class=\"sk-item\"><div class=\"sk-estimator fitted sk-toggleable\"><input class=\"sk-toggleable__control sk-hidden--visually\" id=\"sk-estimator-id-1\" type=\"checkbox\" checked><label for=\"sk-estimator-id-1\" class=\"sk-toggleable__label fitted sk-toggleable__label-arrow fitted\">&nbsp;&nbsp;DecisionTreeClassifier<a class=\"sk-estimator-doc-link fitted\" rel=\"noreferrer\" target=\"_blank\" href=\"https://scikit-learn.org/1.5/modules/generated/sklearn.tree.DecisionTreeClassifier.html\">?<span>Documentation for DecisionTreeClassifier</span></a><span class=\"sk-estimator-doc-link fitted\">i<span>Fitted</span></span></label><div class=\"sk-toggleable__content fitted\"><pre>DecisionTreeClassifier(random_state=42)</pre></div> </div></div></div></div>"
            ]
          },
          "metadata": {},
          "execution_count": 27
        }
      ]
    },
    {
      "cell_type": "markdown",
      "metadata": {
        "id": "P9NClLnNU0cO"
      },
      "source": [
        "And then we can do the same to create a Naïve Bayes model."
      ]
    },
    {
      "cell_type": "code",
      "source": [
        "nb = GaussianNB()\n",
        "nb.fit(X_train, y_train)"
      ],
      "metadata": {
        "id": "zAXgpwEOjWsN",
        "colab": {
          "base_uri": "https://localhost:8080/",
          "height": 81
        },
        "outputId": "65cf09d3-fd28-44db-e981-14eb02ade6de"
      },
      "execution_count": null,
      "outputs": [
        {
          "output_type": "execute_result",
          "data": {
            "text/plain": [
              "GaussianNB()"
            ],
            "text/html": [
              "<style>#sk-container-id-2 {\n",
              "  /* Definition of color scheme common for light and dark mode */\n",
              "  --sklearn-color-text: black;\n",
              "  --sklearn-color-line: gray;\n",
              "  /* Definition of color scheme for unfitted estimators */\n",
              "  --sklearn-color-unfitted-level-0: #fff5e6;\n",
              "  --sklearn-color-unfitted-level-1: #f6e4d2;\n",
              "  --sklearn-color-unfitted-level-2: #ffe0b3;\n",
              "  --sklearn-color-unfitted-level-3: chocolate;\n",
              "  /* Definition of color scheme for fitted estimators */\n",
              "  --sklearn-color-fitted-level-0: #f0f8ff;\n",
              "  --sklearn-color-fitted-level-1: #d4ebff;\n",
              "  --sklearn-color-fitted-level-2: #b3dbfd;\n",
              "  --sklearn-color-fitted-level-3: cornflowerblue;\n",
              "\n",
              "  /* Specific color for light theme */\n",
              "  --sklearn-color-text-on-default-background: var(--sg-text-color, var(--theme-code-foreground, var(--jp-content-font-color1, black)));\n",
              "  --sklearn-color-background: var(--sg-background-color, var(--theme-background, var(--jp-layout-color0, white)));\n",
              "  --sklearn-color-border-box: var(--sg-text-color, var(--theme-code-foreground, var(--jp-content-font-color1, black)));\n",
              "  --sklearn-color-icon: #696969;\n",
              "\n",
              "  @media (prefers-color-scheme: dark) {\n",
              "    /* Redefinition of color scheme for dark theme */\n",
              "    --sklearn-color-text-on-default-background: var(--sg-text-color, var(--theme-code-foreground, var(--jp-content-font-color1, white)));\n",
              "    --sklearn-color-background: var(--sg-background-color, var(--theme-background, var(--jp-layout-color0, #111)));\n",
              "    --sklearn-color-border-box: var(--sg-text-color, var(--theme-code-foreground, var(--jp-content-font-color1, white)));\n",
              "    --sklearn-color-icon: #878787;\n",
              "  }\n",
              "}\n",
              "\n",
              "#sk-container-id-2 {\n",
              "  color: var(--sklearn-color-text);\n",
              "}\n",
              "\n",
              "#sk-container-id-2 pre {\n",
              "  padding: 0;\n",
              "}\n",
              "\n",
              "#sk-container-id-2 input.sk-hidden--visually {\n",
              "  border: 0;\n",
              "  clip: rect(1px 1px 1px 1px);\n",
              "  clip: rect(1px, 1px, 1px, 1px);\n",
              "  height: 1px;\n",
              "  margin: -1px;\n",
              "  overflow: hidden;\n",
              "  padding: 0;\n",
              "  position: absolute;\n",
              "  width: 1px;\n",
              "}\n",
              "\n",
              "#sk-container-id-2 div.sk-dashed-wrapped {\n",
              "  border: 1px dashed var(--sklearn-color-line);\n",
              "  margin: 0 0.4em 0.5em 0.4em;\n",
              "  box-sizing: border-box;\n",
              "  padding-bottom: 0.4em;\n",
              "  background-color: var(--sklearn-color-background);\n",
              "}\n",
              "\n",
              "#sk-container-id-2 div.sk-container {\n",
              "  /* jupyter's `normalize.less` sets `[hidden] { display: none; }`\n",
              "     but bootstrap.min.css set `[hidden] { display: none !important; }`\n",
              "     so we also need the `!important` here to be able to override the\n",
              "     default hidden behavior on the sphinx rendered scikit-learn.org.\n",
              "     See: https://github.com/scikit-learn/scikit-learn/issues/21755 */\n",
              "  display: inline-block !important;\n",
              "  position: relative;\n",
              "}\n",
              "\n",
              "#sk-container-id-2 div.sk-text-repr-fallback {\n",
              "  display: none;\n",
              "}\n",
              "\n",
              "div.sk-parallel-item,\n",
              "div.sk-serial,\n",
              "div.sk-item {\n",
              "  /* draw centered vertical line to link estimators */\n",
              "  background-image: linear-gradient(var(--sklearn-color-text-on-default-background), var(--sklearn-color-text-on-default-background));\n",
              "  background-size: 2px 100%;\n",
              "  background-repeat: no-repeat;\n",
              "  background-position: center center;\n",
              "}\n",
              "\n",
              "/* Parallel-specific style estimator block */\n",
              "\n",
              "#sk-container-id-2 div.sk-parallel-item::after {\n",
              "  content: \"\";\n",
              "  width: 100%;\n",
              "  border-bottom: 2px solid var(--sklearn-color-text-on-default-background);\n",
              "  flex-grow: 1;\n",
              "}\n",
              "\n",
              "#sk-container-id-2 div.sk-parallel {\n",
              "  display: flex;\n",
              "  align-items: stretch;\n",
              "  justify-content: center;\n",
              "  background-color: var(--sklearn-color-background);\n",
              "  position: relative;\n",
              "}\n",
              "\n",
              "#sk-container-id-2 div.sk-parallel-item {\n",
              "  display: flex;\n",
              "  flex-direction: column;\n",
              "}\n",
              "\n",
              "#sk-container-id-2 div.sk-parallel-item:first-child::after {\n",
              "  align-self: flex-end;\n",
              "  width: 50%;\n",
              "}\n",
              "\n",
              "#sk-container-id-2 div.sk-parallel-item:last-child::after {\n",
              "  align-self: flex-start;\n",
              "  width: 50%;\n",
              "}\n",
              "\n",
              "#sk-container-id-2 div.sk-parallel-item:only-child::after {\n",
              "  width: 0;\n",
              "}\n",
              "\n",
              "/* Serial-specific style estimator block */\n",
              "\n",
              "#sk-container-id-2 div.sk-serial {\n",
              "  display: flex;\n",
              "  flex-direction: column;\n",
              "  align-items: center;\n",
              "  background-color: var(--sklearn-color-background);\n",
              "  padding-right: 1em;\n",
              "  padding-left: 1em;\n",
              "}\n",
              "\n",
              "\n",
              "/* Toggleable style: style used for estimator/Pipeline/ColumnTransformer box that is\n",
              "clickable and can be expanded/collapsed.\n",
              "- Pipeline and ColumnTransformer use this feature and define the default style\n",
              "- Estimators will overwrite some part of the style using the `sk-estimator` class\n",
              "*/\n",
              "\n",
              "/* Pipeline and ColumnTransformer style (default) */\n",
              "\n",
              "#sk-container-id-2 div.sk-toggleable {\n",
              "  /* Default theme specific background. It is overwritten whether we have a\n",
              "  specific estimator or a Pipeline/ColumnTransformer */\n",
              "  background-color: var(--sklearn-color-background);\n",
              "}\n",
              "\n",
              "/* Toggleable label */\n",
              "#sk-container-id-2 label.sk-toggleable__label {\n",
              "  cursor: pointer;\n",
              "  display: block;\n",
              "  width: 100%;\n",
              "  margin-bottom: 0;\n",
              "  padding: 0.5em;\n",
              "  box-sizing: border-box;\n",
              "  text-align: center;\n",
              "}\n",
              "\n",
              "#sk-container-id-2 label.sk-toggleable__label-arrow:before {\n",
              "  /* Arrow on the left of the label */\n",
              "  content: \"▸\";\n",
              "  float: left;\n",
              "  margin-right: 0.25em;\n",
              "  color: var(--sklearn-color-icon);\n",
              "}\n",
              "\n",
              "#sk-container-id-2 label.sk-toggleable__label-arrow:hover:before {\n",
              "  color: var(--sklearn-color-text);\n",
              "}\n",
              "\n",
              "/* Toggleable content - dropdown */\n",
              "\n",
              "#sk-container-id-2 div.sk-toggleable__content {\n",
              "  max-height: 0;\n",
              "  max-width: 0;\n",
              "  overflow: hidden;\n",
              "  text-align: left;\n",
              "  /* unfitted */\n",
              "  background-color: var(--sklearn-color-unfitted-level-0);\n",
              "}\n",
              "\n",
              "#sk-container-id-2 div.sk-toggleable__content.fitted {\n",
              "  /* fitted */\n",
              "  background-color: var(--sklearn-color-fitted-level-0);\n",
              "}\n",
              "\n",
              "#sk-container-id-2 div.sk-toggleable__content pre {\n",
              "  margin: 0.2em;\n",
              "  border-radius: 0.25em;\n",
              "  color: var(--sklearn-color-text);\n",
              "  /* unfitted */\n",
              "  background-color: var(--sklearn-color-unfitted-level-0);\n",
              "}\n",
              "\n",
              "#sk-container-id-2 div.sk-toggleable__content.fitted pre {\n",
              "  /* unfitted */\n",
              "  background-color: var(--sklearn-color-fitted-level-0);\n",
              "}\n",
              "\n",
              "#sk-container-id-2 input.sk-toggleable__control:checked~div.sk-toggleable__content {\n",
              "  /* Expand drop-down */\n",
              "  max-height: 200px;\n",
              "  max-width: 100%;\n",
              "  overflow: auto;\n",
              "}\n",
              "\n",
              "#sk-container-id-2 input.sk-toggleable__control:checked~label.sk-toggleable__label-arrow:before {\n",
              "  content: \"▾\";\n",
              "}\n",
              "\n",
              "/* Pipeline/ColumnTransformer-specific style */\n",
              "\n",
              "#sk-container-id-2 div.sk-label input.sk-toggleable__control:checked~label.sk-toggleable__label {\n",
              "  color: var(--sklearn-color-text);\n",
              "  background-color: var(--sklearn-color-unfitted-level-2);\n",
              "}\n",
              "\n",
              "#sk-container-id-2 div.sk-label.fitted input.sk-toggleable__control:checked~label.sk-toggleable__label {\n",
              "  background-color: var(--sklearn-color-fitted-level-2);\n",
              "}\n",
              "\n",
              "/* Estimator-specific style */\n",
              "\n",
              "/* Colorize estimator box */\n",
              "#sk-container-id-2 div.sk-estimator input.sk-toggleable__control:checked~label.sk-toggleable__label {\n",
              "  /* unfitted */\n",
              "  background-color: var(--sklearn-color-unfitted-level-2);\n",
              "}\n",
              "\n",
              "#sk-container-id-2 div.sk-estimator.fitted input.sk-toggleable__control:checked~label.sk-toggleable__label {\n",
              "  /* fitted */\n",
              "  background-color: var(--sklearn-color-fitted-level-2);\n",
              "}\n",
              "\n",
              "#sk-container-id-2 div.sk-label label.sk-toggleable__label,\n",
              "#sk-container-id-2 div.sk-label label {\n",
              "  /* The background is the default theme color */\n",
              "  color: var(--sklearn-color-text-on-default-background);\n",
              "}\n",
              "\n",
              "/* On hover, darken the color of the background */\n",
              "#sk-container-id-2 div.sk-label:hover label.sk-toggleable__label {\n",
              "  color: var(--sklearn-color-text);\n",
              "  background-color: var(--sklearn-color-unfitted-level-2);\n",
              "}\n",
              "\n",
              "/* Label box, darken color on hover, fitted */\n",
              "#sk-container-id-2 div.sk-label.fitted:hover label.sk-toggleable__label.fitted {\n",
              "  color: var(--sklearn-color-text);\n",
              "  background-color: var(--sklearn-color-fitted-level-2);\n",
              "}\n",
              "\n",
              "/* Estimator label */\n",
              "\n",
              "#sk-container-id-2 div.sk-label label {\n",
              "  font-family: monospace;\n",
              "  font-weight: bold;\n",
              "  display: inline-block;\n",
              "  line-height: 1.2em;\n",
              "}\n",
              "\n",
              "#sk-container-id-2 div.sk-label-container {\n",
              "  text-align: center;\n",
              "}\n",
              "\n",
              "/* Estimator-specific */\n",
              "#sk-container-id-2 div.sk-estimator {\n",
              "  font-family: monospace;\n",
              "  border: 1px dotted var(--sklearn-color-border-box);\n",
              "  border-radius: 0.25em;\n",
              "  box-sizing: border-box;\n",
              "  margin-bottom: 0.5em;\n",
              "  /* unfitted */\n",
              "  background-color: var(--sklearn-color-unfitted-level-0);\n",
              "}\n",
              "\n",
              "#sk-container-id-2 div.sk-estimator.fitted {\n",
              "  /* fitted */\n",
              "  background-color: var(--sklearn-color-fitted-level-0);\n",
              "}\n",
              "\n",
              "/* on hover */\n",
              "#sk-container-id-2 div.sk-estimator:hover {\n",
              "  /* unfitted */\n",
              "  background-color: var(--sklearn-color-unfitted-level-2);\n",
              "}\n",
              "\n",
              "#sk-container-id-2 div.sk-estimator.fitted:hover {\n",
              "  /* fitted */\n",
              "  background-color: var(--sklearn-color-fitted-level-2);\n",
              "}\n",
              "\n",
              "/* Specification for estimator info (e.g. \"i\" and \"?\") */\n",
              "\n",
              "/* Common style for \"i\" and \"?\" */\n",
              "\n",
              ".sk-estimator-doc-link,\n",
              "a:link.sk-estimator-doc-link,\n",
              "a:visited.sk-estimator-doc-link {\n",
              "  float: right;\n",
              "  font-size: smaller;\n",
              "  line-height: 1em;\n",
              "  font-family: monospace;\n",
              "  background-color: var(--sklearn-color-background);\n",
              "  border-radius: 1em;\n",
              "  height: 1em;\n",
              "  width: 1em;\n",
              "  text-decoration: none !important;\n",
              "  margin-left: 1ex;\n",
              "  /* unfitted */\n",
              "  border: var(--sklearn-color-unfitted-level-1) 1pt solid;\n",
              "  color: var(--sklearn-color-unfitted-level-1);\n",
              "}\n",
              "\n",
              ".sk-estimator-doc-link.fitted,\n",
              "a:link.sk-estimator-doc-link.fitted,\n",
              "a:visited.sk-estimator-doc-link.fitted {\n",
              "  /* fitted */\n",
              "  border: var(--sklearn-color-fitted-level-1) 1pt solid;\n",
              "  color: var(--sklearn-color-fitted-level-1);\n",
              "}\n",
              "\n",
              "/* On hover */\n",
              "div.sk-estimator:hover .sk-estimator-doc-link:hover,\n",
              ".sk-estimator-doc-link:hover,\n",
              "div.sk-label-container:hover .sk-estimator-doc-link:hover,\n",
              ".sk-estimator-doc-link:hover {\n",
              "  /* unfitted */\n",
              "  background-color: var(--sklearn-color-unfitted-level-3);\n",
              "  color: var(--sklearn-color-background);\n",
              "  text-decoration: none;\n",
              "}\n",
              "\n",
              "div.sk-estimator.fitted:hover .sk-estimator-doc-link.fitted:hover,\n",
              ".sk-estimator-doc-link.fitted:hover,\n",
              "div.sk-label-container:hover .sk-estimator-doc-link.fitted:hover,\n",
              ".sk-estimator-doc-link.fitted:hover {\n",
              "  /* fitted */\n",
              "  background-color: var(--sklearn-color-fitted-level-3);\n",
              "  color: var(--sklearn-color-background);\n",
              "  text-decoration: none;\n",
              "}\n",
              "\n",
              "/* Span, style for the box shown on hovering the info icon */\n",
              ".sk-estimator-doc-link span {\n",
              "  display: none;\n",
              "  z-index: 9999;\n",
              "  position: relative;\n",
              "  font-weight: normal;\n",
              "  right: .2ex;\n",
              "  padding: .5ex;\n",
              "  margin: .5ex;\n",
              "  width: min-content;\n",
              "  min-width: 20ex;\n",
              "  max-width: 50ex;\n",
              "  color: var(--sklearn-color-text);\n",
              "  box-shadow: 2pt 2pt 4pt #999;\n",
              "  /* unfitted */\n",
              "  background: var(--sklearn-color-unfitted-level-0);\n",
              "  border: .5pt solid var(--sklearn-color-unfitted-level-3);\n",
              "}\n",
              "\n",
              ".sk-estimator-doc-link.fitted span {\n",
              "  /* fitted */\n",
              "  background: var(--sklearn-color-fitted-level-0);\n",
              "  border: var(--sklearn-color-fitted-level-3);\n",
              "}\n",
              "\n",
              ".sk-estimator-doc-link:hover span {\n",
              "  display: block;\n",
              "}\n",
              "\n",
              "/* \"?\"-specific style due to the `<a>` HTML tag */\n",
              "\n",
              "#sk-container-id-2 a.estimator_doc_link {\n",
              "  float: right;\n",
              "  font-size: 1rem;\n",
              "  line-height: 1em;\n",
              "  font-family: monospace;\n",
              "  background-color: var(--sklearn-color-background);\n",
              "  border-radius: 1rem;\n",
              "  height: 1rem;\n",
              "  width: 1rem;\n",
              "  text-decoration: none;\n",
              "  /* unfitted */\n",
              "  color: var(--sklearn-color-unfitted-level-1);\n",
              "  border: var(--sklearn-color-unfitted-level-1) 1pt solid;\n",
              "}\n",
              "\n",
              "#sk-container-id-2 a.estimator_doc_link.fitted {\n",
              "  /* fitted */\n",
              "  border: var(--sklearn-color-fitted-level-1) 1pt solid;\n",
              "  color: var(--sklearn-color-fitted-level-1);\n",
              "}\n",
              "\n",
              "/* On hover */\n",
              "#sk-container-id-2 a.estimator_doc_link:hover {\n",
              "  /* unfitted */\n",
              "  background-color: var(--sklearn-color-unfitted-level-3);\n",
              "  color: var(--sklearn-color-background);\n",
              "  text-decoration: none;\n",
              "}\n",
              "\n",
              "#sk-container-id-2 a.estimator_doc_link.fitted:hover {\n",
              "  /* fitted */\n",
              "  background-color: var(--sklearn-color-fitted-level-3);\n",
              "}\n",
              "</style><div id=\"sk-container-id-2\" class=\"sk-top-container\"><div class=\"sk-text-repr-fallback\"><pre>GaussianNB()</pre><b>In a Jupyter environment, please rerun this cell to show the HTML representation or trust the notebook. <br />On GitHub, the HTML representation is unable to render, please try loading this page with nbviewer.org.</b></div><div class=\"sk-container\" hidden><div class=\"sk-item\"><div class=\"sk-estimator fitted sk-toggleable\"><input class=\"sk-toggleable__control sk-hidden--visually\" id=\"sk-estimator-id-2\" type=\"checkbox\" checked><label for=\"sk-estimator-id-2\" class=\"sk-toggleable__label fitted sk-toggleable__label-arrow fitted\">&nbsp;&nbsp;GaussianNB<a class=\"sk-estimator-doc-link fitted\" rel=\"noreferrer\" target=\"_blank\" href=\"https://scikit-learn.org/1.5/modules/generated/sklearn.naive_bayes.GaussianNB.html\">?<span>Documentation for GaussianNB</span></a><span class=\"sk-estimator-doc-link fitted\">i<span>Fitted</span></span></label><div class=\"sk-toggleable__content fitted\"><pre>GaussianNB()</pre></div> </div></div></div></div>"
            ]
          },
          "metadata": {},
          "execution_count": 28
        }
      ]
    },
    {
      "cell_type": "markdown",
      "metadata": {
        "id": "1_-irrAyo1-L"
      },
      "source": [
        "### B. Images"
      ]
    },
    {
      "cell_type": "markdown",
      "source": [
        "For the images, we are going to be applying them to a MobileNetV2 deep learning model using the parameters we established in the last step."
      ],
      "metadata": {
        "id": "5yZJgbPW1MUX"
      }
    },
    {
      "cell_type": "markdown",
      "source": [
        "As we load a pre-trained model, we can freeze the base model for transfer learning and then add custom layers.\n",
        "\n",
        "Also, please note that we will be using binary classification here, since our labels are 0 and 1."
      ],
      "metadata": {
        "id": "hA5rDOPL1oaG"
      }
    },
    {
      "cell_type": "code",
      "execution_count": null,
      "metadata": {
        "id": "xcxYRLAr46pi",
        "colab": {
          "base_uri": "https://localhost:8080/"
        },
        "outputId": "8e84f2d9-4911-453d-aec4-b904cc874b59"
      },
      "outputs": [
        {
          "output_type": "stream",
          "name": "stdout",
          "text": [
            "Downloading data from https://storage.googleapis.com/tensorflow/keras-applications/mobilenet_v2/mobilenet_v2_weights_tf_dim_ordering_tf_kernels_1.0_224_no_top.h5\n",
            "\u001b[1m9406464/9406464\u001b[0m \u001b[32m━━━━━━━━━━━━━━━━━━━━\u001b[0m\u001b[37m\u001b[0m \u001b[1m0s\u001b[0m 0us/step\n"
          ]
        }
      ],
      "source": [
        "def create_model(input_shape, learning_rate):\n",
        "    base_model = MobileNetV2(weights=\"imagenet\", include_top=False, input_shape=input_shape)\n",
        "    base_model.trainable = False\n",
        "    x = base_model.output\n",
        "    x = GlobalAveragePooling2D()(x)\n",
        "    x = Dense(128, activation=\"relu\")(x)\n",
        "    output = Dense(1, activation=\"sigmoid\")(x)\n",
        "    model = Model(inputs=base_model.input, outputs=output)\n",
        "    model.compile(optimizer=Adam(learning_rate=learning_rate), loss=\"binary_crossentropy\", metrics=[\"accuracy\"])\n",
        "    return model\n",
        "model = create_model(input_shape=(image_size[0], image_size[1], 3), learning_rate=learning_rate)"
      ]
    },
    {
      "cell_type": "markdown",
      "source": [
        "Then we can train this model"
      ],
      "metadata": {
        "id": "XWGqfF4V2gH3"
      }
    },
    {
      "cell_type": "code",
      "execution_count": null,
      "metadata": {
        "colab": {
          "base_uri": "https://localhost:8080/"
        },
        "id": "ggVV8fHn5KL2",
        "outputId": "c68c8277-d518-4d21-d892-64a00a93f441"
      },
      "outputs": [
        {
          "metadata": {
            "tags": null
          },
          "name": "stdout",
          "output_type": "stream",
          "text": [
            "Training the model...\n",
            "Epoch 1/10\n"
          ]
        },
        {
          "metadata": {
            "tags": null
          },
          "name": "stderr",
          "output_type": "stream",
          "text": [
            "/usr/local/lib/python3.10/dist-packages/keras/src/trainers/data_adapters/py_dataset_adapter.py:122: UserWarning: Your `PyDataset` class should call `super().__init__(**kwargs)` in its constructor. `**kwargs` can include `workers`, `use_multiprocessing`, `max_queue_size`. Do not pass these arguments to `fit()`, as they will be ignored.\n",
            "  self._warn_if_super_not_called()\n"
          ]
        },
        {
          "metadata": {
            "tags": null
          },
          "name": "stdout",
          "output_type": "stream",
          "text": [
            "\u001b[1m1620/1620\u001b[0m \u001b[32m━━━━━━━━━━━━━━━━━━━━\u001b[0m\u001b[37m\u001b[0m \u001b[1m654s\u001b[0m 395ms/step - accuracy: 0.7967 - loss: 0.4199 - val_accuracy: 0.8222 - val_loss: 0.3906\n",
            "Epoch 2/10\n",
            "\u001b[1m   1/1620\u001b[0m \u001b[37m━━━━━━━━━━━━━━━━━━━━\u001b[0m \u001b[1m48s\u001b[0m 30ms/step - accuracy: 0.7500 - loss: 0.5185"
          ]
        },
        {
          "metadata": {
            "tags": null
          },
          "name": "stderr",
          "output_type": "stream",
          "text": [
            "/usr/lib/python3.10/contextlib.py:153: UserWarning: Your input ran out of data; interrupting training. Make sure that your dataset or generator can generate at least `steps_per_epoch * epochs` batches. You may need to use the `.repeat()` function when building your dataset.\n",
            "  self.gen.throw(typ, value, traceback)\n"
          ]
        },
        {
          "output_type": "stream",
          "name": "stdout",
          "text": [
            "\u001b[1m1620/1620\u001b[0m \u001b[32m━━━━━━━━━━━━━━━━━━━━\u001b[0m\u001b[37m\u001b[0m \u001b[1m3s\u001b[0m 2ms/step - accuracy: 0.7500 - loss: 0.5185 - val_accuracy: 1.0000 - val_loss: 0.1301\n",
            "Epoch 3/10\n",
            "\u001b[1m1620/1620\u001b[0m \u001b[32m━━━━━━━━━━━━━━━━━━━━\u001b[0m\u001b[37m\u001b[0m \u001b[1m631s\u001b[0m 388ms/step - accuracy: 0.8364 - loss: 0.3389 - val_accuracy: 0.8310 - val_loss: 0.3718\n",
            "Epoch 4/10\n",
            "\u001b[1m1620/1620\u001b[0m \u001b[32m━━━━━━━━━━━━━━━━━━━━\u001b[0m\u001b[37m\u001b[0m \u001b[1m0s\u001b[0m 30us/step - accuracy: 0.7500 - loss: 0.4526 - val_accuracy: 0.8750 - val_loss: 0.3376\n",
            "Epoch 5/10\n",
            "\u001b[1m1620/1620\u001b[0m \u001b[32m━━━━━━━━━━━━━━━━━━━━\u001b[0m\u001b[37m\u001b[0m \u001b[1m634s\u001b[0m 390ms/step - accuracy: 0.8551 - loss: 0.3084 - val_accuracy: 0.8581 - val_loss: 0.3087\n",
            "Epoch 6/10\n",
            "\u001b[1m1620/1620\u001b[0m \u001b[32m━━━━━━━━━━━━━━━━━━━━\u001b[0m\u001b[37m\u001b[0m \u001b[1m12s\u001b[0m 7ms/step - accuracy: 0.8750 - loss: 0.3787 - val_accuracy: 0.6250 - val_loss: 0.4963\n",
            "Epoch 7/10\n",
            "\u001b[1m1620/1620\u001b[0m \u001b[32m━━━━━━━━━━━━━━━━━━━━\u001b[0m\u001b[37m\u001b[0m \u001b[1m676s\u001b[0m 394ms/step - accuracy: 0.8680 - loss: 0.2858 - val_accuracy: 0.8775 - val_loss: 0.2711\n",
            "Epoch 8/10\n",
            "\u001b[1m1620/1620\u001b[0m \u001b[32m━━━━━━━━━━━━━━━━━━━━\u001b[0m\u001b[37m\u001b[0m \u001b[1m0s\u001b[0m 19us/step - accuracy: 0.8750 - loss: 0.2100 - val_accuracy: 0.6250 - val_loss: 0.6472\n",
            "Epoch 9/10\n",
            "\u001b[1m1620/1620\u001b[0m \u001b[32m━━━━━━━━━━━━━━━━━━━━\u001b[0m\u001b[37m\u001b[0m \u001b[1m677s\u001b[0m 390ms/step - accuracy: 0.8773 - loss: 0.2668 - val_accuracy: 0.8751 - val_loss: 0.2815\n",
            "Epoch 10/10\n",
            "\u001b[1m1620/1620\u001b[0m \u001b[32m━━━━━━━━━━━━━━━━━━━━\u001b[0m\u001b[37m\u001b[0m \u001b[1m0s\u001b[0m 19us/step - accuracy: 0.7812 - loss: 0.3511 - val_accuracy: 0.8750 - val_loss: 0.4306\n"
          ]
        }
      ],
      "source": [
        "def train_model(model, train_generator, val_generator, epochs):\n",
        "    history = model.fit(\n",
        "        train_generator,\n",
        "        validation_data=val_generator,\n",
        "        epochs=epochs,\n",
        "        steps_per_epoch=train_generator.samples // batch_size,\n",
        "        validation_steps=val_generator.samples // batch_size,\n",
        "        verbose=1\n",
        "    )\n",
        "    return history\n",
        "print(\"Training the model...\")\n",
        "history = train_model(model, train_generator, val_generator, epochs)"
      ]
    },
    {
      "cell_type": "markdown",
      "source": [
        "And then fine-tune the model, being sure to unfreeze the base model before doing so."
      ],
      "metadata": {
        "id": "YGGhdlxI3Jhy"
      }
    },
    {
      "cell_type": "code",
      "execution_count": null,
      "metadata": {
        "id": "fudM3SW25M9d",
        "colab": {
          "base_uri": "https://localhost:8080/"
        },
        "outputId": "1403806d-070a-4edb-85e3-664e4d166666"
      },
      "outputs": [
        {
          "output_type": "stream",
          "name": "stdout",
          "text": [
            "Fine-tuning the model...\n",
            "Epoch 1/5\n",
            "\u001b[1m1620/1620\u001b[0m \u001b[32m━━━━━━━━━━━━━━━━━━━━\u001b[0m\u001b[37m\u001b[0m \u001b[1m646s\u001b[0m 392ms/step - accuracy: 0.8952 - loss: 0.2357 - val_accuracy: 0.8884 - val_loss: 0.2556\n",
            "Epoch 2/5\n",
            "\u001b[1m1620/1620\u001b[0m \u001b[32m━━━━━━━━━━━━━━━━━━━━\u001b[0m\u001b[37m\u001b[0m \u001b[1m11s\u001b[0m 7ms/step - accuracy: 0.8750 - loss: 0.2416 - val_accuracy: 0.6250 - val_loss: 0.8030\n",
            "Epoch 3/5\n",
            "\u001b[1m1620/1620\u001b[0m \u001b[32m━━━━━━━━━━━━━━━━━━━━\u001b[0m\u001b[37m\u001b[0m \u001b[1m640s\u001b[0m 393ms/step - accuracy: 0.9016 - loss: 0.2254 - val_accuracy: 0.8904 - val_loss: 0.2551\n",
            "Epoch 4/5\n",
            "\u001b[1m1620/1620\u001b[0m \u001b[32m━━━━━━━━━━━━━━━━━━━━\u001b[0m\u001b[37m\u001b[0m \u001b[1m0s\u001b[0m 27us/step - accuracy: 0.9062 - loss: 0.2555 - val_accuracy: 0.8750 - val_loss: 0.1207\n",
            "Epoch 5/5\n",
            "\u001b[1m1620/1620\u001b[0m \u001b[32m━━━━━━━━━━━━━━━━━━━━\u001b[0m\u001b[37m\u001b[0m \u001b[1m679s\u001b[0m 391ms/step - accuracy: 0.9045 - loss: 0.2183 - val_accuracy: 0.8877 - val_loss: 0.2629\n"
          ]
        }
      ],
      "source": [
        "def fine_tune_model(model, base_model, learning_rate):\n",
        "    base_model.trainable = True\n",
        "    model.compile(optimizer=Adam(learning_rate=learning_rate / 10), loss=\"binary_crossentropy\", metrics=[\"accuracy\"])\n",
        "    return model\n",
        "print(\"Fine-tuning the model...\")\n",
        "model = fine_tune_model(model, model.layers[0], learning_rate)\n",
        "history_fine_tune = train_model(model, train_generator, val_generator, epochs // 2)"
      ]
    },
    {
      "cell_type": "markdown",
      "source": [
        "Now save it!"
      ],
      "metadata": {
        "id": "cCbtoIdv3gjH"
      }
    },
    {
      "cell_type": "code",
      "execution_count": null,
      "metadata": {
        "id": "cYVPxdhp5SLJ",
        "colab": {
          "base_uri": "https://localhost:8080/"
        },
        "outputId": "490adc9c-6c9c-4a1b-ec89-4e36defb75b3"
      },
      "outputs": [
        {
          "output_type": "stream",
          "name": "stderr",
          "text": [
            "WARNING:absl:You are saving your model as an HDF5 file via `model.save()` or `keras.saving.save_model(model)`. This file format is considered legacy. We recommend using instead the native Keras format, e.g. `model.save('my_model.keras')` or `keras.saving.save_model(model, 'my_model.keras')`. \n"
          ]
        }
      ],
      "source": [
        "model.save(\"mobilenetv2_classifier.h5\")"
      ]
    },
    {
      "cell_type": "markdown",
      "source": [
        "And all of our models have been built!"
      ],
      "metadata": {
        "id": "YLCoOhD63mKj"
      }
    },
    {
      "cell_type": "markdown",
      "metadata": {
        "id": "4_YUYbHNSKvQ"
      },
      "source": [
        "# **Step 4: Model Testing and Evaluation**"
      ]
    },
    {
      "cell_type": "markdown",
      "source": [
        "As always, let's start by importing the libraries we will need for this step.\n",
        "\n",
        "This time, we will need sklearn and seaborn."
      ],
      "metadata": {
        "id": "-MB_unzI4kVt"
      }
    },
    {
      "cell_type": "code",
      "source": [
        "import numpy as np\n",
        "import seaborn as sns\n",
        "from sklearn.metrics import accuracy_score, confusion_matrix, classification_report, roc_curve, auc"
      ],
      "metadata": {
        "id": "nEEDcY2Gia2R"
      },
      "execution_count": null,
      "outputs": []
    },
    {
      "cell_type": "markdown",
      "source": [
        "### A. CSV"
      ],
      "metadata": {
        "id": "jxfAFacSg2QM"
      }
    },
    {
      "cell_type": "markdown",
      "source": [
        "Let's create predictions of our test set, first using the Decision Tree model and then using the Naïve Bayes model."
      ],
      "metadata": {
        "id": "Uxqxa4S_5Ixa"
      }
    },
    {
      "cell_type": "code",
      "source": [
        "dt_preds = dt.predict(X_test)\n",
        "nb_preds = nb.predict(X_test)"
      ],
      "metadata": {
        "id": "O-ihNZ9y5muC"
      },
      "execution_count": null,
      "outputs": []
    },
    {
      "cell_type": "markdown",
      "source": [
        "Let's print some examples of the model testing, for both models."
      ],
      "metadata": {
        "id": "NrNECcpQBHFT"
      }
    },
    {
      "cell_type": "code",
      "execution_count": null,
      "metadata": {
        "id": "AJxAGlA5W5d1",
        "colab": {
          "base_uri": "https://localhost:8080/"
        },
        "outputId": "a0771def-9945-417e-b7b9-72a4c3c9cf4f"
      },
      "outputs": [
        {
          "output_type": "stream",
          "name": "stdout",
          "text": [
            "Sample Predictions from the Decision Tree model:\n",
            "Sample 1: Predicted: 1, Actual: 1\n",
            "Sample 2: Predicted: 0, Actual: 1\n",
            "Sample 3: Predicted: 1, Actual: 1\n",
            "Sample 4: Predicted: 1, Actual: 1\n",
            "Sample 5: Predicted: 1, Actual: 1\n",
            "Sample 6: Predicted: 0, Actual: 0\n",
            "Sample 7: Predicted: 1, Actual: 1\n",
            "Sample 8: Predicted: 0, Actual: 0\n",
            "Sample 9: Predicted: 0, Actual: 0\n",
            "Sample 10: Predicted: 1, Actual: 1\n",
            "\n",
            "Sample Predictions from the Naïve Bayes model:\n",
            "Sample 1: Predicted: 1, Actual: 1\n",
            "Sample 2: Predicted: 0, Actual: 1\n",
            "Sample 3: Predicted: 1, Actual: 1\n",
            "Sample 4: Predicted: 0, Actual: 1\n",
            "Sample 5: Predicted: 1, Actual: 1\n",
            "Sample 6: Predicted: 0, Actual: 0\n",
            "Sample 7: Predicted: 1, Actual: 1\n",
            "Sample 8: Predicted: 0, Actual: 0\n",
            "Sample 9: Predicted: 1, Actual: 0\n",
            "Sample 10: Predicted: 1, Actual: 1\n"
          ]
        }
      ],
      "source": [
        "print(\"Sample Predictions from the Decision Tree model:\")\n",
        "for i in range(10):\n",
        "    print(f\"Sample {i + 1}: Predicted: {dt_preds[i]}, Actual: {y_test.iloc[i]}\")\n",
        "\n",
        "print(\"\\nSample Predictions from the Naïve Bayes model:\")\n",
        "for i in range(10):\n",
        "    print(f\"Sample {i + 1}: Predicted: {nb_preds[i]}, Actual: {y_test.iloc[i]}\")"
      ]
    },
    {
      "cell_type": "markdown",
      "source": [
        "Then we can create classification reports on each model's performance."
      ],
      "metadata": {
        "id": "AJlkRjRD5s2G"
      }
    },
    {
      "cell_type": "code",
      "execution_count": null,
      "metadata": {
        "id": "x2FZA7lcunmt",
        "colab": {
          "base_uri": "https://localhost:8080/"
        },
        "outputId": "101f7447-55ed-411c-d4d9-c3eebc227b7c"
      },
      "outputs": [
        {
          "output_type": "stream",
          "name": "stdout",
          "text": [
            "Decision Tree Performance:\n",
            "               precision    recall  f1-score   support\n",
            "\n",
            "           0       0.93      0.91      0.92       278\n",
            "           1       0.85      0.88      0.86       152\n",
            "\n",
            "    accuracy                           0.90       430\n",
            "   macro avg       0.89      0.89      0.89       430\n",
            "weighted avg       0.90      0.90      0.90       430\n",
            "\n"
          ]
        }
      ],
      "source": [
        "print(\"Decision Tree Performance:\\n\", classification_report(y_test, dt_preds))"
      ]
    },
    {
      "cell_type": "code",
      "execution_count": null,
      "metadata": {
        "id": "w8_VBWklTHHs",
        "colab": {
          "base_uri": "https://localhost:8080/"
        },
        "outputId": "013cec9b-7e91-4ee5-de94-1f17425a8eb7"
      },
      "outputs": [
        {
          "output_type": "stream",
          "name": "stdout",
          "text": [
            "Naïve Bayes Performance:\n",
            "               precision    recall  f1-score   support\n",
            "\n",
            "           0       0.83      0.81      0.82       278\n",
            "           1       0.67      0.70      0.68       152\n",
            "\n",
            "    accuracy                           0.77       430\n",
            "   macro avg       0.75      0.76      0.75       430\n",
            "weighted avg       0.77      0.77      0.77       430\n",
            "\n"
          ]
        }
      ],
      "source": [
        "print(\"Naïve Bayes Performance:\\n\", classification_report(y_test, nb_preds))"
      ]
    },
    {
      "cell_type": "markdown",
      "source": [
        "Let's take a closer look at model accuracy specifically."
      ],
      "metadata": {
        "id": "ZzgPoKl06ekz"
      }
    },
    {
      "cell_type": "code",
      "execution_count": null,
      "metadata": {
        "id": "a6ClPPpAW-S9",
        "colab": {
          "base_uri": "https://localhost:8080/"
        },
        "outputId": "4ee265cf-5593-4834-8619-0ef91654e532"
      },
      "outputs": [
        {
          "output_type": "stream",
          "name": "stdout",
          "text": [
            "Decision Tree Accuracy: 0.90\n",
            "Naïve Bayes Accuracy: 0.77\n"
          ]
        }
      ],
      "source": [
        "dt_accuracy = accuracy_score(y_test, dt_preds)\n",
        "nb_accuracy = accuracy_score(y_test, nb_preds)\n",
        "print(f\"Decision Tree Accuracy: {dt_accuracy:.2f}\")\n",
        "print(f\"Naïve Bayes Accuracy: {nb_accuracy:.2f}\")"
      ]
    },
    {
      "cell_type": "markdown",
      "source": [
        "Great! Now we can proceed to evaluating the images model."
      ],
      "metadata": {
        "id": "iKD2Z-nF6xQ8"
      }
    },
    {
      "cell_type": "markdown",
      "source": [
        "### B. Images"
      ],
      "metadata": {
        "id": "QYnS9vfCg52A"
      }
    },
    {
      "cell_type": "markdown",
      "source": [
        "Let's start by evaluating our MobileNetV2 model on our test set."
      ],
      "metadata": {
        "id": "SxDaYLjC7UVa"
      }
    },
    {
      "cell_type": "code",
      "execution_count": null,
      "metadata": {
        "id": "j6xHDQMU5PzV",
        "colab": {
          "base_uri": "https://localhost:8080/"
        },
        "outputId": "8e4e5f6d-2974-43e0-a35a-477113f6f897"
      },
      "outputs": [
        {
          "output_type": "stream",
          "name": "stdout",
          "text": [
            "Evaluating the model on the test set...\n",
            "\u001b[1m  2/540\u001b[0m \u001b[37m━━━━━━━━━━━━━━━━━━━━\u001b[0m \u001b[1m43s\u001b[0m 81ms/step - accuracy: 0.9062 - loss: 0.2512  "
          ]
        },
        {
          "output_type": "stream",
          "name": "stderr",
          "text": [
            "/usr/local/lib/python3.10/dist-packages/keras/src/trainers/data_adapters/py_dataset_adapter.py:122: UserWarning: Your `PyDataset` class should call `super().__init__(**kwargs)` in its constructor. `**kwargs` can include `workers`, `use_multiprocessing`, `max_queue_size`. Do not pass these arguments to `fit()`, as they will be ignored.\n",
            "  self._warn_if_super_not_called()\n"
          ]
        },
        {
          "output_type": "stream",
          "name": "stdout",
          "text": [
            "\u001b[1m540/540\u001b[0m \u001b[32m━━━━━━━━━━━━━━━━━━━━\u001b[0m\u001b[37m\u001b[0m \u001b[1m35s\u001b[0m 64ms/step - accuracy: 0.8932 - loss: 0.2513\n",
            "Test Accuracy: 0.8887\n"
          ]
        }
      ],
      "source": [
        "print(\"Evaluating the model on the test set...\")\n",
        "test_loss, test_accuracy = model.evaluate(test_generator, steps=test_generator.samples // batch_size, verbose=1)\n",
        "print(f\"Test Accuracy: {test_accuracy:.4f}\")"
      ]
    },
    {
      "cell_type": "markdown",
      "source": [
        "Now let's take a look at several visual representations of the images model."
      ],
      "metadata": {
        "id": "0M1vm25L8mWe"
      }
    },
    {
      "cell_type": "markdown",
      "source": [
        "We can start by printing some examples of the predictions/testing compared to the true labels, with modified labels for simplicity."
      ],
      "metadata": {
        "id": "2pPflamB8wnt"
      }
    },
    {
      "cell_type": "code",
      "execution_count": null,
      "metadata": {
        "id": "0xeRbP_yyhE4",
        "colab": {
          "base_uri": "https://localhost:8080/",
          "height": 276
        },
        "outputId": "827667a9-1e18-4aa3-9177-616519309fe3"
      },
      "outputs": [
        {
          "output_type": "stream",
          "name": "stdout",
          "text": [
            "\u001b[1m1/1\u001b[0m \u001b[32m━━━━━━━━━━━━━━━━━━━━\u001b[0m\u001b[37m\u001b[0m \u001b[1m4s\u001b[0m 4s/step\n"
          ]
        },
        {
          "output_type": "display_data",
          "data": {
            "text/plain": [
              "<Figure size 1500x500 with 5 Axes>"
            ],
            "image/png": "[encoded data removed]"
          },
          "metadata": {}
        }
      ],
      "source": [
        "images, labels = next(test_generator)\n",
        "predictions = model.predict(images)\n",
        "predicted_labels = (predictions > 0.5).astype(int)\n",
        "num_examples_to_display = 5\n",
        "plt.figure(figsize=(15, 5))\n",
        "for i in range(num_examples_to_display):\n",
        "    plt.subplot(1, num_examples_to_display, i + 1)\n",
        "    plt.imshow(images[i])\n",
        "    predicted_label_str = \"Yes\" if predicted_labels[i][0] == 1 else \"No\"\n",
        "    actual_label_str = \"Yes\" if labels[i] == 1 else \"No\"\n",
        "    plt.title(f\"Pred: {predicted_label_str}, Actual: {actual_label_str}\")\n",
        "    plt.axis('off')\n",
        "plt.show()"
      ]
    },
    {
      "cell_type": "markdown",
      "source": [
        "Let's also generate the classification report for this model"
      ],
      "metadata": {
        "id": "uNs3v_NSD80O"
      }
    },
    {
      "cell_type": "code",
      "execution_count": null,
      "metadata": {
        "id": "6Bwqy7LbyQz2",
        "colab": {
          "base_uri": "https://localhost:8080/"
        },
        "outputId": "d588e85d-f5a0-4472-fbcc-6d05edabc1fa"
      },
      "outputs": [
        {
          "output_type": "stream",
          "name": "stdout",
          "text": [
            "\u001b[1m541/541\u001b[0m \u001b[32m━━━━━━━━━━━━━━━━━━━━\u001b[0m\u001b[37m\u001b[0m \u001b[1m34s\u001b[0m 59ms/step\n",
            "               precision    recall  f1-score   support\n",
            "\n",
            " Non Demented       0.91      0.95      0.93     13445\n",
            "With Dementia       0.80      0.66      0.72      3843\n",
            "\n",
            "     accuracy                           0.89     17288\n",
            "    macro avg       0.86      0.81      0.83     17288\n",
            " weighted avg       0.88      0.89      0.88     17288\n",
            "\n"
          ]
        }
      ],
      "source": [
        "y_pred = model.predict(test_generator)\n",
        "y_pred_binary = (y_pred > 0.5).astype(int)\n",
        "report = classification_report(test_generator.classes, y_pred_binary, target_names=['Non Demented', 'With Dementia'])\n",
        "print(report)"
      ]
    },
    {
      "cell_type": "markdown",
      "source": [
        "Now let's take a look at a confusion matrix of how the model evaluated the test set we provided it with, predicted labels vs actual labels.\n",
        "\n",
        "For this, we can use seaborn."
      ],
      "metadata": {
        "id": "-zKSAHgv9pSI"
      }
    },
    {
      "cell_type": "code",
      "execution_count": null,
      "metadata": {
        "id": "ctKCfK-lxA-w",
        "colab": {
          "base_uri": "https://localhost:8080/",
          "height": 581
        },
        "outputId": "55b20d3d-e5ba-4d82-e58e-739faa7e804d"
      },
      "outputs": [
        {
          "output_type": "stream",
          "name": "stdout",
          "text": [
            "\u001b[1m541/541\u001b[0m \u001b[32m━━━━━━━━━━━━━━━━━━━━\u001b[0m\u001b[37m\u001b[0m \u001b[1m28s\u001b[0m 53ms/step\n"
          ]
        },
        {
          "output_type": "display_data",
          "data": {
            "text/plain": [
              "<Figure size 800x600 with 2 Axes>"
            ],
            "image/png": "[encoded data removed]"
          },
          "metadata": {}
        }
      ],
      "source": [
        "y_pred = model.predict(test_generator)\n",
        "y_pred_binary = (y_pred > 0.5).astype(int)\n",
        "cm = confusion_matrix(test_generator.classes, y_pred_binary)\n",
        "plt.figure(figsize=(8, 6))\n",
        "sns.heatmap(cm, annot=True, fmt='d', cmap='Blues',\n",
        "            xticklabels=['Non Demented', 'With Dementia'],\n",
        "            yticklabels=['Non Demented', 'With Dementia'])\n",
        "plt.title('Confusion Matrix')\n",
        "plt.ylabel('Actual Label')\n",
        "plt.xlabel('Predicted Label')\n",
        "plt.show()"
      ]
    },
    {
      "cell_type": "markdown",
      "source": [
        "We can also normalize this confusion matrix to get proportions, and use that to represent our model performance instead."
      ],
      "metadata": {
        "id": "QsrsY7pQR0yp"
      }
    },
    {
      "cell_type": "code",
      "source": [
        "cm_normalized = cm.astype('float') / cm.sum(axis=1)[:, np.newaxis]\n",
        "\n",
        "plt.figure(figsize=(8, 6))\n",
        "sns.heatmap(cm_normalized, annot=True, fmt=\".2f\", cmap='Blues',\n",
        "            xticklabels=['Non Demented', 'With Dementia'],\n",
        "            yticklabels=['Non Demented', 'With Dementia'])\n",
        "plt.title('Confusion Matrix (Proportions)')\n",
        "plt.ylabel('Actual Label')\n",
        "plt.xlabel('Predicted Label')\n",
        "plt.show()"
      ],
      "metadata": {
        "id": "DtF6ENQRR0Ax",
        "colab": {
          "base_uri": "https://localhost:8080/",
          "height": 564
        },
        "outputId": "ad5fd12e-f826-4968-edb5-bab2f5e314f4"
      },
      "execution_count": null,
      "outputs": [
        {
          "output_type": "display_data",
          "data": {
            "text/plain": [
              "<Figure size 800x600 with 2 Axes>"
            ],
            "image/png": "[encoded data removed]"
          },
          "metadata": {}
        }
      ]
    },
    {
      "cell_type": "markdown",
      "source": [
        "Then we can plot the training and validation accuracy and loss values across epochs during the model's initial training."
      ],
      "metadata": {
        "id": "jkgdMict_puj"
      }
    },
    {
      "cell_type": "code",
      "execution_count": null,
      "metadata": {
        "id": "rTljYdNnv00w",
        "colab": {
          "base_uri": "https://localhost:8080/",
          "height": 407
        },
        "outputId": "54fde4fd-7c3f-420b-f05d-cffc6dc45054"
      },
      "outputs": [
        {
          "output_type": "display_data",
          "data": {
            "text/plain": [
              "<Figure size 1200x400 with 2 Axes>"
            ],
            "image/png": "[encoded data removed]"
          },
          "metadata": {}
        }
      ],
      "source": [
        "plt.figure(figsize=(12, 4))\n",
        "\n",
        "plt.subplot(1, 2, 1)\n",
        "plt.plot(history.history['accuracy'])\n",
        "plt.plot(history.history['val_accuracy'])\n",
        "plt.title('Model accuracy')\n",
        "plt.ylabel('Accuracy')\n",
        "plt.xlabel('Epoch')\n",
        "plt.legend(['Train', 'Validation'], loc='upper left')\n",
        "\n",
        "plt.subplot(1, 2, 2)\n",
        "plt.plot(history.history['loss'])\n",
        "plt.plot(history.history['val_loss'])\n",
        "plt.title('Model loss')\n",
        "plt.ylabel('Loss')\n",
        "plt.xlabel('Epoch')\n",
        "plt.legend(['Train', 'Validation'], loc='upper left')\n",
        "\n",
        "plt.tight_layout()\n",
        "plt.show()"
      ]
    },
    {
      "cell_type": "markdown",
      "source": [
        "Progressively, our accuracy trended up and our loss trended down."
      ],
      "metadata": {
        "id": "fgTpZW-_JCtV"
      }
    },
    {
      "cell_type": "markdown",
      "source": [
        "Finally, let's calculate and plot the Receiver Operating Characteristic (ROC) Curve.\n",
        "\n",
        "Here, the closer the Area Under the Curve (AUC) is to 1, the closer the model is the being considered a perfect classifier.\n",
        "\n",
        "The closer the AUC is to 0.5, the closer the model is to being considered no better than random guessing."
      ],
      "metadata": {
        "id": "muFC6wfZ_Fsz"
      }
    },
    {
      "cell_type": "code",
      "execution_count": null,
      "metadata": {
        "id": "6jwn7bzVxhiU",
        "colab": {
          "base_uri": "https://localhost:8080/",
          "height": 581
        },
        "outputId": "4691923e-9e84-4d9f-f57a-9bf2ee4c7c60"
      },
      "outputs": [
        {
          "output_type": "stream",
          "name": "stdout",
          "text": [
            "\u001b[1m541/541\u001b[0m \u001b[32m━━━━━━━━━━━━━━━━━━━━\u001b[0m\u001b[37m\u001b[0m \u001b[1m30s\u001b[0m 55ms/step\n"
          ]
        },
        {
          "output_type": "display_data",
          "data": {
            "text/plain": [
              "<Figure size 800x600 with 1 Axes>"
            ],
            "image/png": "[encoded data removed]"
          },
          "metadata": {}
        }
      ],
      "source": [
        "y_pred_probs = model.predict(test_generator)[:, 0]\n",
        "fpr, tpr, thresholds = roc_curve(test_generator.classes, y_pred_probs)\n",
        "roc_auc = auc(fpr, tpr)\n",
        "plt.figure(figsize=(8, 6))\n",
        "plt.plot(fpr, tpr, color='darkorange', lw=2, label=f'ROC curve \\n(Area Under the Curve (AUC) = {roc_auc:.2f})')\n",
        "plt.plot([0, 1], [0, 1], color='navy', lw=2, linestyle='--')\n",
        "plt.xlim([0.0, 1.0])\n",
        "plt.ylim([0.0, 1.05])\n",
        "plt.xlabel('False Positive Rate')\n",
        "plt.ylabel('True Positive Rate')\n",
        "plt.title('Receiver Operating Characteristic (ROC) Curve')\n",
        "plt.legend(loc=\"lower right\")\n",
        "plt.show()"
      ]
    },
    {
      "cell_type": "markdown",
      "source": [
        "Our AUC is 0.95!\n",
        "\n",
        "This shows it is an extremely strong classifier."
      ],
      "metadata": {
        "id": "FpEma8miIMO0"
      }
    },
    {
      "cell_type": "markdown",
      "source": [
        "This concludes the code portion of our project."
      ],
      "metadata": {
        "id": "OlSb8vLdEhFt"
      }
    },
    {
      "cell_type": "code",
      "execution_count": null,
      "metadata": {
        "id": "qqGY9oC3dCNN"
      },
      "outputs": [],
      "source": []
    }
  ],
  "metadata": {
    "accelerator": "GPU",
    "colab": {
      "gpuType": "T4",
      "provenance": []
    },
    "kernelspec": {
      "display_name": "Python 3",
      "name": "python3"
    },
    "language_info": {
      "name": "python"
    }
  },
  "nbformat": 4,
  "nbformat_minor": 0
}